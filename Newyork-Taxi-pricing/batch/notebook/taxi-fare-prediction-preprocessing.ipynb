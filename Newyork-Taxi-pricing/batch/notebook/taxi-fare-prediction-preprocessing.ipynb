{
 "cells": [
  {
   "cell_type": "code",
   "execution_count": 47,
   "id": "31502a31",
   "metadata": {},
   "outputs": [],
   "source": [
    "from pyspark.sql import SparkSession"
   ]
  },
  {
   "cell_type": "code",
   "execution_count": 48,
   "id": "3612d61f",
   "metadata": {},
   "outputs": [],
   "source": [
    "MAX_MEMORY = '5g'\n",
    "spark = SparkSession.builder.appName('taxi-fare-prediction')\\\n",
    "                    .config('spark.executor.memory', MAX_MEMORY)\\\n",
    "                    .config('spark.driver.memory', MAX_MEMORY)\\\n",
    "                    .getOrCreate()"
   ]
  },
  {
   "cell_type": "markdown",
   "id": "84c597c5",
   "metadata": {},
   "source": [
    "# 데이터프레임 생성"
   ]
  },
  {
   "cell_type": "code",
   "execution_count": 118,
   "id": "c610917a",
   "metadata": {},
   "outputs": [],
   "source": [
    "trip_files = '/Users/dongwoo/new_york/data/trips/*' # 모든 파일을 가져온다.\n",
    "zone_file = '/Users/dongwoo/new_york/data/taxi+_zone_lookup.csv' "
   ]
  },
  {
   "cell_type": "code",
   "execution_count": 119,
   "id": "f8f1c422",
   "metadata": {},
   "outputs": [],
   "source": [
    "trips_df = spark.read.parquet(f\"file:///{trip_files}\", inferSchema=True, header=True)\n",
    "zone_df = spark.read.csv(f\"file:///{zone_file}\", inferSchema=True, header=True)"
   ]
  },
  {
   "cell_type": "markdown",
   "id": "6435a400",
   "metadata": {},
   "source": [
    "### 스키마 생성"
   ]
  },
  {
   "cell_type": "code",
   "execution_count": 120,
   "id": "50d8e3c0",
   "metadata": {},
   "outputs": [
    {
     "name": "stdout",
     "output_type": "stream",
     "text": [
      "root\n",
      " |-- VendorID: long (nullable = true)\n",
      " |-- tpep_pickup_datetime: timestamp (nullable = true)\n",
      " |-- tpep_dropoff_datetime: timestamp (nullable = true)\n",
      " |-- passenger_count: double (nullable = true)\n",
      " |-- trip_distance: double (nullable = true)\n",
      " |-- RatecodeID: double (nullable = true)\n",
      " |-- store_and_fwd_flag: string (nullable = true)\n",
      " |-- PULocationID: long (nullable = true)\n",
      " |-- DOLocationID: long (nullable = true)\n",
      " |-- payment_type: long (nullable = true)\n",
      " |-- fare_amount: double (nullable = true)\n",
      " |-- extra: double (nullable = true)\n",
      " |-- mta_tax: double (nullable = true)\n",
      " |-- tip_amount: double (nullable = true)\n",
      " |-- tolls_amount: double (nullable = true)\n",
      " |-- improvement_surcharge: double (nullable = true)\n",
      " |-- total_amount: double (nullable = true)\n",
      " |-- congestion_surcharge: double (nullable = true)\n",
      " |-- airport_fee: double (nullable = true)\n",
      "\n"
     ]
    }
   ],
   "source": [
    "trips_df.printSchema()"
   ]
  },
  {
   "cell_type": "code",
   "execution_count": 121,
   "id": "e7f944fd",
   "metadata": {},
   "outputs": [],
   "source": [
    "trips_df.createOrReplaceTempView('trips')"
   ]
  },
  {
   "cell_type": "code",
   "execution_count": 122,
   "id": "4b9c9f62",
   "metadata": {},
   "outputs": [],
   "source": [
    "query = \"\"\"\n",
    "SELECT\n",
    "    passenger_count,\n",
    "    PULocationID as pickup_location_id,\n",
    "    DOLocationID as dropoff_location_id,\n",
    "    trip_distance,\n",
    "    HOUR(tpep_pickup_datetime) as pickup_time,\n",
    "    DATE_FORMAT(TO_DATE(tpep_pickup_datetime), 'EEEE') AS day_of_week,\n",
    "    total_amount\n",
    "FROM\n",
    "    trips\n",
    "WHERE\n",
    "    total_amount < 5000\n",
    "    AND total_amount > 0\n",
    "    AND trip_distance > 0\n",
    "    AND trip_distance < 500\n",
    "    AND passenger_count < 4\n",
    "    AND TO_DATE(tpep_pickup_datetime) >= '2021-01-01'\n",
    "    AND TO_DATE(tpep_pickup_datetime) < '2022-01-01'\n",
    "\n",
    "\"\"\"\n",
    "data_df = spark.sql(query)\n",
    "data_df.createOrReplaceTempView('df')"
   ]
  },
  {
   "cell_type": "code",
   "execution_count": 123,
   "id": "edb4689a",
   "metadata": {},
   "outputs": [
    {
     "name": "stdout",
     "output_type": "stream",
     "text": [
      "root\n",
      " |-- passenger_count: double (nullable = true)\n",
      " |-- pickup_location_id: long (nullable = true)\n",
      " |-- dropoff_location_id: long (nullable = true)\n",
      " |-- trip_distance: double (nullable = true)\n",
      " |-- pickup_time: integer (nullable = true)\n",
      " |-- day_of_week: string (nullable = true)\n",
      " |-- total_amount: double (nullable = true)\n",
      "\n"
     ]
    }
   ],
   "source": [
    "data_df.printSchema()"
   ]
  },
  {
   "cell_type": "code",
   "execution_count": 124,
   "id": "2414cd41",
   "metadata": {
    "scrolled": true
   },
   "outputs": [
    {
     "name": "stdout",
     "output_type": "stream",
     "text": [
      "+---------------+------------------+-------------------+-------------+-----------+-----------+------------+\n",
      "|passenger_count|pickup_location_id|dropoff_location_id|trip_distance|pickup_time|day_of_week|total_amount|\n",
      "+---------------+------------------+-------------------+-------------+-----------+-----------+------------+\n",
      "|            1.0|               140|                 36|          7.4|          9|     Friday|        40.8|\n",
      "|            1.0|               209|                 94|         14.1|          9|     Friday|        42.8|\n",
      "|            2.0|               238|                107|         5.64|          9|     Friday|       28.56|\n",
      "|            0.0|                48|                179|          5.5|          9|     Friday|        34.3|\n",
      "|            1.0|                79|                 25|          3.7|          9|     Friday|        21.3|\n",
      "|            1.0|               143|                 42|          4.2|          9|     Friday|       21.96|\n",
      "|            1.0|               138|                 80|         6.97|          9|     Friday|       24.05|\n",
      "|            1.0|               148|                140|          4.0|          9|     Friday|       21.35|\n",
      "|            1.0|               148|                256|          1.9|          9|     Friday|       14.16|\n",
      "|            1.0|               138|                265|         66.6|          9|     Friday|      196.35|\n",
      "|            1.0|                87|                231|         0.75|          9|     Friday|       11.16|\n",
      "|            1.0|               231|                234|          3.0|          9|     Friday|       18.96|\n",
      "|            1.0|               264|                140|         2.52|          9|     Friday|       18.48|\n",
      "|            1.0|               125|                 13|         1.16|          9|     Friday|        14.3|\n",
      "|            1.0|               161|                114|         2.79|          9|     Friday|        15.3|\n",
      "|            1.0|                90|                161|         2.08|          9|     Friday|       15.99|\n",
      "|            1.0|                79|                262|         4.19|          9|     Friday|       20.16|\n",
      "|            1.0|               162|                140|          1.5|          9|     Friday|       12.95|\n",
      "|            1.0|               229|                121|         11.1|          9|     Friday|       47.15|\n",
      "|            1.0|               148|                166|         9.65|          9|     Friday|       39.96|\n",
      "+---------------+------------------+-------------------+-------------+-----------+-----------+------------+\n",
      "only showing top 20 rows\n",
      "\n"
     ]
    }
   ],
   "source": [
    "data_df.show()"
   ]
  },
  {
   "cell_type": "markdown",
   "id": "d2d6ac3d",
   "metadata": {},
   "source": [
    "데이터 타입 변경\n",
    "[참고자료](https://stackoverflow.com/questions/46956026/how-to-convert-column-with-string-type-to-int-form-in-pyspark-data-frame)"
   ]
  },
  {
   "cell_type": "code",
   "execution_count": 125,
   "id": "bf9a87f2",
   "metadata": {},
   "outputs": [],
   "source": [
    "# 데이터 타입 변경 (추후 전처리를 위해 숫자형 데이터 인 컬럼은 변경)\n",
    "from pyspark.sql.types import IntegerType\n",
    "data_df = data_df.withColumn(\"passenger_count\", data_df[\"passenger_count\"].cast(IntegerType()))\n",
    "data_df = data_df.withColumn(\"pickup_location_id\", data_df[\"pickup_location_id\"].cast(IntegerType()))\n",
    "data_df = data_df.withColumn(\"dropoff_location_id\", data_df[\"dropoff_location_id\"].cast(IntegerType()))"
   ]
  },
  {
   "cell_type": "code",
   "execution_count": 126,
   "id": "8b88d864",
   "metadata": {},
   "outputs": [
    {
     "name": "stdout",
     "output_type": "stream",
     "text": [
      "root\n",
      " |-- passenger_count: integer (nullable = true)\n",
      " |-- pickup_location_id: integer (nullable = true)\n",
      " |-- dropoff_location_id: integer (nullable = true)\n",
      " |-- trip_distance: double (nullable = true)\n",
      " |-- pickup_time: integer (nullable = true)\n",
      " |-- day_of_week: string (nullable = true)\n",
      " |-- total_amount: double (nullable = true)\n",
      "\n"
     ]
    }
   ],
   "source": [
    "data_df.printSchema()"
   ]
  },
  {
   "cell_type": "markdown",
   "id": "e285a499",
   "metadata": {},
   "source": [
    "# Data Split"
   ]
  },
  {
   "cell_type": "code",
   "execution_count": 127,
   "id": "50231442",
   "metadata": {},
   "outputs": [],
   "source": [
    "train_df, test_df = data_df.randomSplit([0.8, 0.2], seed=1)"
   ]
  },
  {
   "cell_type": "code",
   "execution_count": 128,
   "id": "9f9e21d2",
   "metadata": {},
   "outputs": [
    {
     "name": "stderr",
     "output_type": "stream",
     "text": [
      "                                                                                \r"
     ]
    },
    {
     "name": "stdout",
     "output_type": "stream",
     "text": [
      "train :  21811818\n"
     ]
    },
    {
     "name": "stderr",
     "output_type": "stream",
     "text": [
      "[Stage 120:==================================================>      (8 + 1) / 9]\r"
     ]
    },
    {
     "name": "stdout",
     "output_type": "stream",
     "text": [
      "test :  5450943\n"
     ]
    },
    {
     "name": "stderr",
     "output_type": "stream",
     "text": [
      "\r",
      "                                                                                \r"
     ]
    }
   ],
   "source": [
    "print(\"train : \",train_df.count())\n",
    "print(\"test : \",test_df.count())"
   ]
  },
  {
   "cell_type": "markdown",
   "id": "b2bb9d20",
   "metadata": {},
   "source": [
    "### 데이터 저장\n",
    "- 추후 데이터를 가져오기 시간 단축을 위함"
   ]
  },
  {
   "cell_type": "code",
   "execution_count": 129,
   "id": "7516985b",
   "metadata": {},
   "outputs": [],
   "source": [
    "data_dir = \"/Users/dongwoo/new_york/data\""
   ]
  },
  {
   "cell_type": "code",
   "execution_count": 133,
   "id": "d0f60d1d",
   "metadata": {},
   "outputs": [],
   "source": [
    "# 데이터 저장하기\n",
    "train_df.write.format(\"parquet\").save(f\"{data_dir}/train/\")\n",
    "test_df.write.format(\"parquet\").save(f\"{data_dir}/test/\")"
   ]
  },
  {
   "cell_type": "code",
   "execution_count": 134,
   "id": "1033727e",
   "metadata": {},
   "outputs": [],
   "source": [
    "# 데이터 불러오기\n",
    "train_df = spark.read.parquet(f\"{data_dir}/train/\")\n",
    "test_df = spark.read.parquet(f\"{data_dir}/test/\")"
   ]
  },
  {
   "cell_type": "code",
   "execution_count": 135,
   "id": "6e8c2eb1",
   "metadata": {},
   "outputs": [
    {
     "name": "stdout",
     "output_type": "stream",
     "text": [
      "root\n",
      " |-- passenger_count: integer (nullable = true)\n",
      " |-- pickup_location_id: integer (nullable = true)\n",
      " |-- dropoff_location_id: integer (nullable = true)\n",
      " |-- trip_distance: double (nullable = true)\n",
      " |-- pickup_time: integer (nullable = true)\n",
      " |-- day_of_week: string (nullable = true)\n",
      " |-- total_amount: double (nullable = true)\n",
      "\n"
     ]
    }
   ],
   "source": [
    "train_df.printSchema()"
   ]
  },
  {
   "cell_type": "markdown",
   "id": "3037ba55",
   "metadata": {},
   "source": [
    "# Data Preprocessing"
   ]
  },
  {
   "cell_type": "markdown",
   "id": "f80c341b",
   "metadata": {},
   "source": [
    "### One Hot Encoding & String Indexer\n",
    "> Categorical Data를 벡터화 합니다. \n",
    "\n",
    "- String Indexer는 `inputCol`컬럼을 인덱싱하여 `OutputCol` 컬럼을 새로 만드는 것이다.\n",
    "- 레이블 빈도에 따라 정렬되므로 가장 빈번한 레이블은 0번째 인덱스를 갖는다.\n",
    "- `.setHandleInvalid(\"keep\")`은 변환 중 해당하지 않은 값이 들어올 떄 문제를 대처하는 역할을 한다. \"keep\", \"error\" or \"skip\"\n",
    "- [참고자료](https://knight76.tistory.com/entry/spark-머신-러닝-StringIndexer-예)\n",
    "\n",
    "\n",
    "`pickup_location_id` >> `pickup_location_id_index` >> **`pickup_location_id_onehot`**"
   ]
  },
  {
   "cell_type": "code",
   "execution_count": 136,
   "id": "d03694f5",
   "metadata": {},
   "outputs": [],
   "source": [
    "from pyspark.ml.feature import OneHotEncoder, StringIndexer\n",
    "\n",
    "cat_feats = [\n",
    "    \"pickup_location_id\",\n",
    "    \"dropoff_location_id\",\n",
    "    \"day_of_week\"\n",
    "]\n",
    "\n",
    "stages = []\n",
    "\n",
    "for c in cat_feats:\n",
    "    cat_indexer = StringIndexer(inputCol = c, outputCol = c + \"_idex\").setHandleInvalid(\"keep\") \n",
    "    onehot_encoder = OneHotEncoder(inputCols=[cat_indexer.getOutputCol()], outputCols=[c + \"_onehot\"])\n",
    "    \n",
    "    stages += [cat_indexer, onehot_encoder] "
   ]
  },
  {
   "cell_type": "code",
   "execution_count": 137,
   "id": "220d9970",
   "metadata": {},
   "outputs": [
    {
     "data": {
      "text/plain": [
       "[StringIndexer_4f208c4e0020,\n",
       " OneHotEncoder_69cddd9fe1ab,\n",
       " StringIndexer_e4423e803f4f,\n",
       " OneHotEncoder_588669c8303d,\n",
       " StringIndexer_63a2096f0eb2,\n",
       " OneHotEncoder_e8ac8648588f]"
      ]
     },
     "execution_count": 137,
     "metadata": {},
     "output_type": "execute_result"
    }
   ],
   "source": [
    "stages"
   ]
  },
  {
   "cell_type": "markdown",
   "id": "c96e71c5",
   "metadata": {},
   "source": [
    "### Vector Assembler & StandardScaler\n",
    "> Numerical Data를 벡터화 합니다.\n",
    "\n",
    "\n",
    "`passenger_count` >> `passenger_count_vector` >> **`passenger_count_scaled`**"
   ]
  },
  {
   "cell_type": "code",
   "execution_count": 138,
   "id": "34c99a0d",
   "metadata": {},
   "outputs": [],
   "source": [
    "from pyspark.ml.feature import VectorAssembler, StandardScaler\n",
    "\n",
    "num_feats = [\n",
    "    \"passenger_count\",\n",
    "    \"trip_distance\",\n",
    "    \"pickup_time\"\n",
    "]\n",
    "\n",
    "for n in num_feats:\n",
    "    num_assembler = VectorAssembler(inputCols=[n], outputCol= n + \"_vector\")\n",
    "    num_scaler = StandardScaler(inputCol=num_assembler.getOutputCol(), outputCol= n + \"_scaled\")\n",
    "    \n",
    "    stages += [num_assembler, num_scaler]"
   ]
  },
  {
   "cell_type": "code",
   "execution_count": 139,
   "id": "9b88b3e0",
   "metadata": {},
   "outputs": [
    {
     "data": {
      "text/plain": [
       "[StringIndexer_4f208c4e0020,\n",
       " OneHotEncoder_69cddd9fe1ab,\n",
       " StringIndexer_e4423e803f4f,\n",
       " OneHotEncoder_588669c8303d,\n",
       " StringIndexer_63a2096f0eb2,\n",
       " OneHotEncoder_e8ac8648588f,\n",
       " VectorAssembler_c72ea79c5929,\n",
       " StandardScaler_6025bffc4161,\n",
       " VectorAssembler_05431aed8913,\n",
       " StandardScaler_d3d3965405ae,\n",
       " VectorAssembler_709acf9b73db,\n",
       " StandardScaler_447a5f084be8]"
      ]
     },
     "execution_count": 139,
     "metadata": {},
     "output_type": "execute_result"
    }
   ],
   "source": [
    "stages"
   ]
  },
  {
   "cell_type": "markdown",
   "id": "e3e5130b",
   "metadata": {},
   "source": [
    "### 두 벡터화 된 컬럼을 다시 벡터화로 합친다.\n",
    "\n",
    "`passenger_count_scaled` + `passenger_count_scaled` >> **`feature_vector`**"
   ]
  },
  {
   "cell_type": "code",
   "execution_count": 140,
   "id": "d5934eeb",
   "metadata": {},
   "outputs": [],
   "source": [
    "assembler_inputs = [c + \"_onehot\" for c in cat_feats] + [n + \"_scaled\" for n in num_feats]\n",
    "assembler = VectorAssembler(inputCols=assembler_inputs, outputCol=\"feature_vector\")\n",
    "stages += [assembler]"
   ]
  },
  {
   "cell_type": "code",
   "execution_count": 141,
   "id": "38fbe2a2",
   "metadata": {},
   "outputs": [
    {
     "data": {
      "text/plain": [
       "[StringIndexer_4f208c4e0020,\n",
       " OneHotEncoder_69cddd9fe1ab,\n",
       " StringIndexer_e4423e803f4f,\n",
       " OneHotEncoder_588669c8303d,\n",
       " StringIndexer_63a2096f0eb2,\n",
       " OneHotEncoder_e8ac8648588f,\n",
       " VectorAssembler_c72ea79c5929,\n",
       " StandardScaler_6025bffc4161,\n",
       " VectorAssembler_05431aed8913,\n",
       " StandardScaler_d3d3965405ae,\n",
       " VectorAssembler_709acf9b73db,\n",
       " StandardScaler_447a5f084be8,\n",
       " VectorAssembler_aa507b389caf]"
      ]
     },
     "execution_count": 141,
     "metadata": {},
     "output_type": "execute_result"
    }
   ],
   "source": [
    "stages"
   ]
  },
  {
   "cell_type": "code",
   "execution_count": 142,
   "id": "dbe60ec5",
   "metadata": {},
   "outputs": [
    {
     "name": "stderr",
     "output_type": "stream",
     "text": [
      "                                                                                \r"
     ]
    }
   ],
   "source": [
    "from pyspark.ml import Pipeline\n",
    "\n",
    "tf_stages = stages # Processing을 완료한 stages\n",
    "pipe = Pipeline(stages=tf_stages) # 파이프라인을 구축\n",
    "\n",
    "tf_fit = pipe.fit(train_df) # fit"
   ]
  },
  {
   "cell_type": "code",
   "execution_count": 143,
   "id": "00803f70",
   "metadata": {},
   "outputs": [],
   "source": [
    "v_train_df = tf_fit.transform(train_df) # transform"
   ]
  },
  {
   "cell_type": "code",
   "execution_count": 144,
   "id": "98fbe2a8",
   "metadata": {},
   "outputs": [
    {
     "name": "stdout",
     "output_type": "stream",
     "text": [
      "root\n",
      " |-- passenger_count: integer (nullable = true)\n",
      " |-- pickup_location_id: integer (nullable = true)\n",
      " |-- dropoff_location_id: integer (nullable = true)\n",
      " |-- trip_distance: double (nullable = true)\n",
      " |-- pickup_time: integer (nullable = true)\n",
      " |-- day_of_week: string (nullable = true)\n",
      " |-- total_amount: double (nullable = true)\n",
      " |-- pickup_location_id_idex: double (nullable = false)\n",
      " |-- pickup_location_id_onehot: vector (nullable = true)\n",
      " |-- dropoff_location_id_idex: double (nullable = false)\n",
      " |-- dropoff_location_id_onehot: vector (nullable = true)\n",
      " |-- day_of_week_idex: double (nullable = false)\n",
      " |-- day_of_week_onehot: vector (nullable = true)\n",
      " |-- passenger_count_vector: vector (nullable = true)\n",
      " |-- passenger_count_scaled: vector (nullable = true)\n",
      " |-- trip_distance_vector: vector (nullable = true)\n",
      " |-- trip_distance_scaled: vector (nullable = true)\n",
      " |-- pickup_time_vector: vector (nullable = true)\n",
      " |-- pickup_time_scaled: vector (nullable = true)\n",
      " |-- feature_vector: vector (nullable = true)\n",
      "\n"
     ]
    }
   ],
   "source": [
    "v_train_df.printSchema()"
   ]
  },
  {
   "cell_type": "markdown",
   "id": "2139a053",
   "metadata": {},
   "source": [
    "# Regression Modeling"
   ]
  },
  {
   "cell_type": "code",
   "execution_count": 145,
   "id": "caeaa5b0",
   "metadata": {},
   "outputs": [],
   "source": [
    "from pyspark.ml.regression import LinearRegression"
   ]
  },
  {
   "cell_type": "code",
   "execution_count": 146,
   "id": "2980ec62",
   "metadata": {},
   "outputs": [],
   "source": [
    "lr = LinearRegression(\n",
    "    maxIter=5, # 반복수\n",
    "    solver=\"normal\",\n",
    "    labelCol=\"total_amount\", # Label(Traget)\n",
    "    featuresCol='feature_vector' # 전처리 후 > feature -> feature_vector\n",
    "    )"
   ]
  },
  {
   "cell_type": "code",
   "execution_count": 147,
   "id": "568a3c58",
   "metadata": {},
   "outputs": [
    {
     "name": "stderr",
     "output_type": "stream",
     "text": [
      "22/07/15 18:18:34 WARN Instrumentation: [0fc681ac] regParam is zero, which might cause numerical instability and overfitting.\n",
      "22/07/15 18:19:20 WARN Instrumentation: [0fc681ac] Cholesky solver failed due to singular covariance matrix. Retrying with Quasi-Newton solver.\n",
      "                                                                                \r"
     ]
    }
   ],
   "source": [
    "model = lr.fit(v_train_df)"
   ]
  },
  {
   "cell_type": "code",
   "execution_count": 148,
   "id": "fdaaae4b",
   "metadata": {},
   "outputs": [],
   "source": [
    "vtest_df = tf_fit.transform(test_df) # test 데이터는 fit을 하지 않습니다. "
   ]
  },
  {
   "cell_type": "code",
   "execution_count": 149,
   "id": "7c761a16",
   "metadata": {},
   "outputs": [],
   "source": [
    "prediction = model.transform(vtest_df)"
   ]
  },
  {
   "cell_type": "code",
   "execution_count": 150,
   "id": "aaa3e7e9",
   "metadata": {},
   "outputs": [
    {
     "name": "stdout",
     "output_type": "stream",
     "text": [
      "+---------------+------------------+-------------------+-------------+-----------+-----------+------------+-----------------------+-------------------------+------------------------+--------------------------+----------------+------------------+----------------------+----------------------+--------------------+--------------------+------------------+--------------------+--------------------+------------------+\n",
      "|passenger_count|pickup_location_id|dropoff_location_id|trip_distance|pickup_time|day_of_week|total_amount|pickup_location_id_idex|pickup_location_id_onehot|dropoff_location_id_idex|dropoff_location_id_onehot|day_of_week_idex|day_of_week_onehot|passenger_count_vector|passenger_count_scaled|trip_distance_vector|trip_distance_scaled|pickup_time_vector|  pickup_time_scaled|      feature_vector|        prediction|\n",
      "+---------------+------------------+-------------------+-------------+-----------+-----------+------------+-----------------------+-------------------------+------------------------+--------------------------+----------------+------------------+----------------------+----------------------+--------------------+--------------------+------------------+--------------------+--------------------+------------------+\n",
      "|              0|                 4|                  4|          0.5|         22|  Wednesday|         7.8|                   61.0|         (263,[61],[1.0])|                    50.0|          (261,[50],[1.0])|             3.0|     (7,[3],[1.0])|                 [0.0]|                 [0.0]|               [0.5]|[0.12148147583568...|            [22.0]|[2.6584653458016057]|(534,[61,313,527,...|11.841025324487386|\n",
      "|              0|                 4|                 13|          3.6|         11|     Sunday|        19.3|                   61.0|         (263,[61],[1.0])|                    44.0|          (261,[44],[1.0])|             5.0|     (7,[5],[1.0])|                 [0.0]|                 [0.0]|               [3.6]|[0.8746666260169578]|            [11.0]|[1.3292326729008028]|(534,[61,307,529,...| 20.67793812164151|\n",
      "|              0|                 4|                 45|          3.7|         20|   Saturday|        18.8|                   61.0|         (263,[61],[1.0])|                    63.0|          (261,[63],[1.0])|             2.0|     (7,[2],[1.0])|                 [0.0]|                 [0.0]|               [3.7]|[0.8989629211840955]|            [20.0]|[2.4167866780014595]|(534,[61,326,526,...|20.342708610562486|\n",
      "|              0|                 4|                 48|          4.1|          1|  Wednesday|        24.3|                   61.0|         (263,[61],[1.0])|                     9.0|           (261,[9],[1.0])|             3.0|     (7,[3],[1.0])|                 [0.0]|                 [0.0]|               [4.1]|[0.9961481018526462]|             [1.0]|[0.12083933390007...|(534,[61,272,527,...|21.417218559326905|\n",
      "|              0|                 4|                 68|          2.2|          1|  Wednesday|        16.8|                   61.0|         (263,[61],[1.0])|                    13.0|          (261,[13],[1.0])|             3.0|     (7,[3],[1.0])|                 [0.0]|                 [0.0]|               [2.2]|[0.5345184936770297]|             [1.0]|[0.12083933390007...|(534,[61,276,527,...|16.936332433380162|\n",
      "|              0|                 4|                 68|          2.6|         23|     Monday|        17.8|                   61.0|         (263,[61],[1.0])|                    13.0|          (261,[13],[1.0])|             6.0|     (7,[6],[1.0])|                 [0.0]|                 [0.0]|               [2.6]|[0.6317036743455806]|            [23.0]|[2.7793046797016787]|(534,[61,276,530,...|16.262002864764774|\n",
      "|              0|                 4|                 75|          6.3|         12|     Sunday|       29.15|                   61.0|         (263,[61],[1.0])|                    25.0|          (261,[25],[1.0])|             5.0|     (7,[5],[1.0])|                 [0.0]|                 [0.0]|               [6.3]| [1.530666595529676]|            [12.0]| [1.450072006800876]|(534,[61,288,529,...|24.633136976602458|\n",
      "|              0|                 4|                 79|          0.6|          8|   Saturday|        9.95|                   61.0|         (263,[61],[1.0])|                    18.0|          (261,[18],[1.0])|             2.0|     (7,[2],[1.0])|                 [0.0]|                 [0.0]|               [0.6]|[0.1457777710028263]|             [8.0]|[0.9667146712005839]|(534,[61,281,526,...|12.714483766943516|\n",
      "|              0|                 4|                 79|          0.8|          1|  Wednesday|         9.3|                   61.0|         (263,[61],[1.0])|                    18.0|          (261,[18],[1.0])|             3.0|     (7,[3],[1.0])|                 [0.0]|                 [0.0]|               [0.8]|[0.19437036133710...|             [1.0]|[0.12083933390007...|(534,[61,281,527,...|13.586300857984474|\n",
      "|              0|                 4|                 79|          0.8|          4|     Friday|        0.31|                   61.0|         (263,[61],[1.0])|                    18.0|          (261,[18],[1.0])|             1.0|     (7,[1],[1.0])|                 [0.0]|                 [0.0]|               [0.8]|[0.19437036133710...|             [4.0]|[0.4833573356002919]|(534,[61,281,525,...|13.615110912796716|\n",
      "|              0|                 4|                 79|          1.0|         23|  Wednesday|       11.75|                   61.0|         (263,[61],[1.0])|                    18.0|          (261,[18],[1.0])|             3.0|     (7,[3],[1.0])|                 [0.0]|                 [0.0]|               [1.0]|[0.24296295167137...|            [23.0]|[2.7793046797016787]|(534,[61,281,527,...|13.164575514872963|\n",
      "|              0|                 4|                114|          0.6|         21|     Monday|        9.95|                   61.0|         (263,[61],[1.0])|                    36.0|          (261,[36],[1.0])|             6.0|     (7,[6],[1.0])|                 [0.0]|                 [0.0]|               [0.6]|[0.1457777710028263]|            [21.0]|[2.5376260119015326]|(534,[61,299,530,...| 11.79750717158885|\n",
      "|              0|                 4|                114|          1.1|          4|    Tuesday|       12.95|                   61.0|         (263,[61],[1.0])|                    36.0|          (261,[36],[1.0])|             4.0|     (7,[4],[1.0])|                 [0.0]|                 [0.0]|               [1.1]|[0.2672592468385149]|             [4.0]|[0.4833573356002919]|(534,[61,299,528,...|14.137657716480172|\n",
      "|              0|                 4|                114|          1.1|         22|  Wednesday|        11.3|                   61.0|         (263,[61],[1.0])|                    36.0|          (261,[36],[1.0])|             3.0|     (7,[3],[1.0])|                 [0.0]|                 [0.0]|               [1.1]|[0.2672592468385149]|            [22.0]|[2.6584653458016057]|(534,[61,299,527,...| 13.69604191667101|\n",
      "|              0|                 4|                114|          2.1|          9|     Sunday|       15.95|                   61.0|         (263,[61],[1.0])|                    36.0|          (261,[36],[1.0])|             5.0|     (7,[5],[1.0])|                 [0.0]|                 [0.0]|               [2.1]| [0.510222198509892]|             [9.0]| [1.087554005100657]|(534,[61,299,529,...|15.933806732254316|\n",
      "|              0|                 4|                158|          1.9|         22|   Saturday|        15.3|                   61.0|         (263,[61],[1.0])|                    37.0|          (261,[37],[1.0])|             2.0|     (7,[2],[1.0])|                 [0.0]|                 [0.0]|               [1.9]|[0.4616296081756166]|            [22.0]|[2.6584653458016057]|(534,[61,300,526,...|15.667586028760873|\n",
      "|              0|                 4|                163|          3.7|          9|     Monday|        18.3|                   61.0|         (263,[61],[1.0])|                    12.0|          (261,[12],[1.0])|             6.0|     (7,[6],[1.0])|                 [0.0]|                 [0.0]|               [3.7]|[0.8989629211840955]|             [9.0]| [1.087554005100657]|(534,[61,275,530,...| 19.38611879794911|\n",
      "|              0|                 4|                163|          4.8|          0|  Wednesday|        33.8|                   61.0|         (263,[61],[1.0])|                    12.0|          (261,[12],[1.0])|             3.0|     (7,[3],[1.0])|                 [0.0]|                 [0.0]|               [4.8]|[1.1662221680226104]|             [0.0]|               [0.0]|(534,[61,275,527,...|23.141446734165314|\n",
      "|              0|                 4|                163|          4.8|         22|    Tuesday|        26.8|                   61.0|         (263,[61],[1.0])|                    12.0|          (261,[12],[1.0])|             4.0|     (7,[4],[1.0])|                 [0.0]|                 [0.0]|               [4.8]|[1.1662221680226104]|            [22.0]|[2.6584653458016057]|(534,[61,275,528,...|21.939920838991007|\n",
      "|              0|                 4|                164|          2.8|          0|  Wednesday|        19.3|                   61.0|         (263,[61],[1.0])|                    20.0|          (261,[20],[1.0])|             3.0|     (7,[3],[1.0])|                 [0.0]|                 [0.0]|               [2.8]| [0.680296264679856]|             [0.0]|               [0.0]|(534,[61,283,527,...| 18.49375218308556|\n",
      "+---------------+------------------+-------------------+-------------+-----------+-----------+------------+-----------------------+-------------------------+------------------------+--------------------------+----------------+------------------+----------------------+----------------------+--------------------+--------------------+------------------+--------------------+--------------------+------------------+\n",
      "only showing top 20 rows\n",
      "\n"
     ]
    }
   ],
   "source": [
    "prediction.show()"
   ]
  },
  {
   "cell_type": "code",
   "execution_count": 151,
   "id": "72b2562d",
   "metadata": {},
   "outputs": [
    {
     "data": {
      "text/plain": [
       "DataFrame[passenger_count: int, pickup_location_id: int, dropoff_location_id: int, trip_distance: double, pickup_time: int, day_of_week: string, total_amount: double, pickup_location_id_idex: double, pickup_location_id_onehot: vector, dropoff_location_id_idex: double, dropoff_location_id_onehot: vector, day_of_week_idex: double, day_of_week_onehot: vector, passenger_count_vector: vector, passenger_count_scaled: vector, trip_distance_vector: vector, trip_distance_scaled: vector, pickup_time_vector: vector, pickup_time_scaled: vector, feature_vector: vector, prediction: double]"
      ]
     },
     "execution_count": 151,
     "metadata": {},
     "output_type": "execute_result"
    }
   ],
   "source": [
    "prediction.cache()"
   ]
  },
  {
   "cell_type": "code",
   "execution_count": 152,
   "id": "86d73166",
   "metadata": {},
   "outputs": [
    {
     "name": "stderr",
     "output_type": "stream",
     "text": [
      "\r",
      "[Stage 148:>                                                        (0 + 1) / 1]\r"
     ]
    },
    {
     "name": "stdout",
     "output_type": "stream",
     "text": [
      "+-------------+-----------+------------+------------------+\n",
      "|trip_distance|day_of_week|total_amount|        prediction|\n",
      "+-------------+-----------+------------+------------------+\n",
      "|          0.5|  Wednesday|         7.8|11.841025324487386|\n",
      "|          3.6|     Sunday|        19.3| 20.67793812164151|\n",
      "|          3.7|   Saturday|        18.8|20.342708610562486|\n",
      "|          4.1|  Wednesday|        24.3|21.417218559326905|\n",
      "|          2.2|  Wednesday|        16.8|16.936332433380162|\n",
      "|          2.6|     Monday|        17.8|16.262002864764774|\n",
      "|          6.3|     Sunday|       29.15|24.633136976602458|\n",
      "|          0.6|   Saturday|        9.95|12.714483766943516|\n",
      "|          0.8|  Wednesday|         9.3|13.586300857984474|\n",
      "|          0.8|     Friday|        0.31|13.615110912796716|\n",
      "|          1.0|  Wednesday|       11.75|13.164575514872963|\n",
      "|          0.6|     Monday|        9.95| 11.79750717158885|\n",
      "|          1.1|    Tuesday|       12.95|14.137657716480172|\n",
      "|          1.1|  Wednesday|        11.3| 13.69604191667101|\n",
      "|          2.1|     Sunday|       15.95|15.933806732254316|\n",
      "|          1.9|   Saturday|        15.3|15.667586028760873|\n",
      "|          3.7|     Monday|        18.3| 19.38611879794911|\n",
      "|          4.8|  Wednesday|        33.8|23.141446734165314|\n",
      "|          4.8|    Tuesday|        26.8|21.939920838991007|\n",
      "|          2.8|  Wednesday|        19.3| 18.49375218308556|\n",
      "+-------------+-----------+------------+------------------+\n",
      "only showing top 20 rows\n",
      "\n"
     ]
    },
    {
     "name": "stderr",
     "output_type": "stream",
     "text": [
      "\r",
      "                                                                                \r"
     ]
    }
   ],
   "source": [
    "prediction.select([\"trip_distance\", \"day_of_week\",\"total_amount\",\"prediction\"]).show()"
   ]
  },
  {
   "cell_type": "markdown",
   "id": "7689d1a2",
   "metadata": {},
   "source": [
    "## Evaluation"
   ]
  },
  {
   "cell_type": "code",
   "execution_count": 153,
   "id": "ba51771f",
   "metadata": {},
   "outputs": [
    {
     "data": {
      "text/plain": [
       "6.2011173489453775"
      ]
     },
     "execution_count": 153,
     "metadata": {},
     "output_type": "execute_result"
    }
   ],
   "source": [
    "model.summary.rootMeanSquaredError "
   ]
  },
  {
   "cell_type": "code",
   "execution_count": 154,
   "id": "a00d5a73",
   "metadata": {},
   "outputs": [
    {
     "data": {
      "text/plain": [
       "0.8090240964137727"
      ]
     },
     "execution_count": 154,
     "metadata": {},
     "output_type": "execute_result"
    }
   ],
   "source": [
    "model.summary.r2"
   ]
  },
  {
   "cell_type": "markdown",
   "id": "cfcc5404",
   "metadata": {},
   "source": [
    "- R2 : 80%가 나온것으로 봤을때, 지난 성능보다 향상됬다고 볼 수 있다."
   ]
  }
 ],
 "metadata": {
  "kernelspec": {
   "display_name": "Python 3 (ipykernel)",
   "language": "python",
   "name": "python3"
  },
  "language_info": {
   "codemirror_mode": {
    "name": "ipython",
    "version": 3
   },
   "file_extension": ".py",
   "mimetype": "text/x-python",
   "name": "python",
   "nbconvert_exporter": "python",
   "pygments_lexer": "ipython3",
   "version": "3.9.7"
  }
 },
 "nbformat": 4,
 "nbformat_minor": 5
}
