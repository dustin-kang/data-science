{
 "cells": [
  {
   "cell_type": "code",
   "execution_count": 1,
   "id": "31502a31",
   "metadata": {},
   "outputs": [],
   "source": [
    "from pyspark.sql import SparkSession"
   ]
  },
  {
   "cell_type": "code",
   "execution_count": 2,
   "id": "3612d61f",
   "metadata": {},
   "outputs": [
    {
     "name": "stderr",
     "output_type": "stream",
     "text": [
      "22/07/05 21:09:02 WARN Utils: Your hostname, dongwoo.local resolves to a loopback address: 127.0.0.1; using 192.168.55.122 instead (on interface en0)\n",
      "22/07/05 21:09:02 WARN Utils: Set SPARK_LOCAL_IP if you need to bind to another address\n",
      "WARNING: An illegal reflective access operation has occurred\n",
      "WARNING: Illegal reflective access by org.apache.spark.unsafe.Platform (file:/Users/dongwoo/opt/anaconda3/lib/python3.9/site-packages/pyspark/jars/spark-unsafe_2.12-3.2.1.jar) to constructor java.nio.DirectByteBuffer(long,int)\n",
      "WARNING: Please consider reporting this to the maintainers of org.apache.spark.unsafe.Platform\n",
      "WARNING: Use --illegal-access=warn to enable warnings of further illegal reflective access operations\n",
      "WARNING: All illegal access operations will be denied in a future release\n",
      "Using Spark's default log4j profile: org/apache/spark/log4j-defaults.properties\n",
      "Setting default log level to \"WARN\".\n",
      "To adjust logging level use sc.setLogLevel(newLevel). For SparkR, use setLogLevel(newLevel).\n",
      "22/07/05 21:09:02 WARN NativeCodeLoader: Unable to load native-hadoop library for your platform... using builtin-java classes where applicable\n",
      "22/07/05 21:09:03 WARN Utils: Service 'SparkUI' could not bind on port 4040. Attempting port 4041.\n"
     ]
    }
   ],
   "source": [
    "MAX_MEMORY = '5g'\n",
    "spark = SparkSession.builder.appName('taxi-fare-prediction')\\\n",
    "                    .config('spark.executor.memory', MAX_MEMORY)\\\n",
    "                    .config('spark.driver.memory', MAX_MEMORY)\\\n",
    "                    .getOrCreate()"
   ]
  },
  {
   "cell_type": "markdown",
   "id": "84c597c5",
   "metadata": {},
   "source": [
    "# 데이터프레임 생성"
   ]
  },
  {
   "cell_type": "code",
   "execution_count": 3,
   "id": "c610917a",
   "metadata": {},
   "outputs": [],
   "source": [
    "trip_files = '/Users/dongwoo/new_york/data/trips/*' # 모든 파일을 가져온다.\n",
    "zone_file = '/Users/dongwoo/new_york/data/taxi+_zone_lookup.csv' "
   ]
  },
  {
   "cell_type": "code",
   "execution_count": 4,
   "id": "f8f1c422",
   "metadata": {},
   "outputs": [
    {
     "name": "stderr",
     "output_type": "stream",
     "text": [
      "                                                                                \r"
     ]
    }
   ],
   "source": [
    "trips_df = spark.read.parquet(f\"file:///{trip_files}\", inferSchema=True, header=True)\n",
    "zone_df = spark.read.csv(f\"file:///{zone_file}\", inferSchema=True, header=True)"
   ]
  },
  {
   "cell_type": "markdown",
   "id": "6435a400",
   "metadata": {},
   "source": [
    "### 스키마 생성"
   ]
  },
  {
   "cell_type": "code",
   "execution_count": 5,
   "id": "50d8e3c0",
   "metadata": {},
   "outputs": [
    {
     "name": "stdout",
     "output_type": "stream",
     "text": [
      "root\n",
      " |-- VendorID: long (nullable = true)\n",
      " |-- tpep_pickup_datetime: timestamp (nullable = true)\n",
      " |-- tpep_dropoff_datetime: timestamp (nullable = true)\n",
      " |-- passenger_count: double (nullable = true)\n",
      " |-- trip_distance: double (nullable = true)\n",
      " |-- RatecodeID: double (nullable = true)\n",
      " |-- store_and_fwd_flag: string (nullable = true)\n",
      " |-- PULocationID: long (nullable = true)\n",
      " |-- DOLocationID: long (nullable = true)\n",
      " |-- payment_type: long (nullable = true)\n",
      " |-- fare_amount: double (nullable = true)\n",
      " |-- extra: double (nullable = true)\n",
      " |-- mta_tax: double (nullable = true)\n",
      " |-- tip_amount: double (nullable = true)\n",
      " |-- tolls_amount: double (nullable = true)\n",
      " |-- improvement_surcharge: double (nullable = true)\n",
      " |-- total_amount: double (nullable = true)\n",
      " |-- congestion_surcharge: double (nullable = true)\n",
      " |-- airport_fee: double (nullable = true)\n",
      "\n"
     ]
    }
   ],
   "source": [
    "trips_df.printSchema()"
   ]
  },
  {
   "cell_type": "code",
   "execution_count": 7,
   "id": "e7f944fd",
   "metadata": {},
   "outputs": [],
   "source": [
    "trips_df.createOrReplaceTempView('trips')"
   ]
  },
  {
   "cell_type": "code",
   "execution_count": 8,
   "id": "4b9c9f62",
   "metadata": {},
   "outputs": [],
   "source": [
    "query = \"\"\"\n",
    "SELECT\n",
    "    trip_distance,\n",
    "    total_amount\n",
    "FROM\n",
    "    trips\n",
    "WHERE\n",
    "    total_amount < 5000\n",
    "    AND total_amount > 0\n",
    "    AND trip_distance < 500\n",
    "    AND passenger_count < 5\n",
    "    AND TO_DATE(tpep_pickup_datetime) >= '2021-01-01'\n",
    "    AND TO_DATE(tpep_pickup_datetime) < '2022-01-01'\n",
    "\n",
    "\"\"\"\n",
    "data_df = spark.sql(query)\n",
    "data_df.createOrReplaceTempView('df')"
   ]
  },
  {
   "cell_type": "code",
   "execution_count": 9,
   "id": "2414cd41",
   "metadata": {},
   "outputs": [
    {
     "name": "stdout",
     "output_type": "stream",
     "text": [
      "+-------------+------------+\n",
      "|trip_distance|total_amount|\n",
      "+-------------+------------+\n",
      "|          7.4|        40.8|\n",
      "|         14.1|        42.8|\n",
      "|         5.64|       28.56|\n",
      "|          5.5|        34.3|\n",
      "|          3.7|        21.3|\n",
      "|          4.2|       21.96|\n",
      "|         6.97|       24.05|\n",
      "|          4.0|       21.35|\n",
      "|          1.9|       14.16|\n",
      "|         66.6|      196.35|\n",
      "|         0.75|       11.16|\n",
      "|          3.0|       18.96|\n",
      "|         2.52|       18.48|\n",
      "|         1.16|        14.3|\n",
      "|         2.79|        15.3|\n",
      "|         2.08|       15.99|\n",
      "|         4.19|       20.16|\n",
      "|          1.5|       12.95|\n",
      "|         11.1|       47.15|\n",
      "|         9.65|       39.96|\n",
      "+-------------+------------+\n",
      "only showing top 20 rows\n",
      "\n"
     ]
    }
   ],
   "source": [
    "data_df.show()"
   ]
  },
  {
   "cell_type": "code",
   "execution_count": 10,
   "id": "1a46f449",
   "metadata": {},
   "outputs": [
    {
     "name": "stderr",
     "output_type": "stream",
     "text": [
      "[Stage 4:====================================================>      (8 + 1) / 9]\r"
     ]
    },
    {
     "name": "stdout",
     "output_type": "stream",
     "text": [
      "+-------+------------------+------------------+\n",
      "|summary|     trip_distance|      total_amount|\n",
      "+-------+------------------+------------------+\n",
      "|  count|          28075891|          28075891|\n",
      "|   mean|3.0586407341441615|19.206020264792702|\n",
      "| stddev| 4.117759204328298|14.642710918710762|\n",
      "|    min|               0.0|              0.01|\n",
      "|    max|             482.1|            4973.3|\n",
      "+-------+------------------+------------------+\n",
      "\n"
     ]
    },
    {
     "name": "stderr",
     "output_type": "stream",
     "text": [
      "\r",
      "                                                                                \r"
     ]
    }
   ],
   "source": [
    "data_df.describe().show()"
   ]
  },
  {
   "cell_type": "markdown",
   "id": "c99bb230",
   "metadata": {},
   "source": [
    "- 평균 3.0 마일 정도 거리를 가고 19불 정도 금액을 평균적으로 내는 것으로 보인다."
   ]
  },
  {
   "cell_type": "markdown",
   "id": "e285a499",
   "metadata": {},
   "source": [
    "# Data Split"
   ]
  },
  {
   "cell_type": "code",
   "execution_count": 13,
   "id": "50231442",
   "metadata": {},
   "outputs": [],
   "source": [
    "train_df, test_df = data_df.randomSplit([0.8, 0.2], seed=1)"
   ]
  },
  {
   "cell_type": "code",
   "execution_count": 16,
   "id": "9f9e21d2",
   "metadata": {},
   "outputs": [
    {
     "name": "stderr",
     "output_type": "stream",
     "text": [
      "                                                                                \r"
     ]
    },
    {
     "name": "stdout",
     "output_type": "stream",
     "text": [
      "train :  22461938\n"
     ]
    },
    {
     "name": "stderr",
     "output_type": "stream",
     "text": [
      "[Stage 16:===================================================>      (8 + 1) / 9]\r"
     ]
    },
    {
     "name": "stdout",
     "output_type": "stream",
     "text": [
      "test :  5613953\n"
     ]
    },
    {
     "name": "stderr",
     "output_type": "stream",
     "text": [
      "\r",
      "                                                                                \r"
     ]
    }
   ],
   "source": [
    "print(\"train : \",train_df.count())\n",
    "print(\"test : \",test_df.count())"
   ]
  },
  {
   "cell_type": "code",
   "execution_count": 17,
   "id": "34c99a0d",
   "metadata": {},
   "outputs": [],
   "source": [
    "from pyspark.ml.feature import VectorAssembler"
   ]
  },
  {
   "cell_type": "code",
   "execution_count": 20,
   "id": "8db52bb9",
   "metadata": {},
   "outputs": [],
   "source": [
    "vassembler = VectorAssembler(inputCols=[\"trip_distance\"], outputCol=\"features\")\n",
    "# trip_distance -> features로 들어가게됨."
   ]
  },
  {
   "cell_type": "code",
   "execution_count": 21,
   "id": "92bf2d53",
   "metadata": {},
   "outputs": [],
   "source": [
    "vtrain_df = vassembler.transform(train_df)"
   ]
  },
  {
   "cell_type": "code",
   "execution_count": 22,
   "id": "8f948580",
   "metadata": {},
   "outputs": [
    {
     "name": "stderr",
     "output_type": "stream",
     "text": [
      "\r",
      "[Stage 19:>                                                         (0 + 1) / 1]\r"
     ]
    },
    {
     "name": "stdout",
     "output_type": "stream",
     "text": [
      "+-------------+------------+--------+\n",
      "|trip_distance|total_amount|features|\n",
      "+-------------+------------+--------+\n",
      "|          0.0|        0.01|   [0.0]|\n",
      "|          0.0|        0.01|   [0.0]|\n",
      "|          0.0|         0.3|   [0.0]|\n",
      "|          0.0|         0.3|   [0.0]|\n",
      "|          0.0|         0.3|   [0.0]|\n",
      "|          0.0|         0.3|   [0.0]|\n",
      "|          0.0|         0.3|   [0.0]|\n",
      "|          0.0|         0.3|   [0.0]|\n",
      "|          0.0|         0.3|   [0.0]|\n",
      "|          0.0|         0.3|   [0.0]|\n",
      "|          0.0|         0.3|   [0.0]|\n",
      "|          0.0|         0.3|   [0.0]|\n",
      "|          0.0|         0.3|   [0.0]|\n",
      "|          0.0|         0.3|   [0.0]|\n",
      "|          0.0|         0.3|   [0.0]|\n",
      "|          0.0|         0.3|   [0.0]|\n",
      "|          0.0|         0.3|   [0.0]|\n",
      "|          0.0|         0.3|   [0.0]|\n",
      "|          0.0|         0.3|   [0.0]|\n",
      "|          0.0|         0.3|   [0.0]|\n",
      "+-------------+------------+--------+\n",
      "only showing top 20 rows\n",
      "\n"
     ]
    },
    {
     "name": "stderr",
     "output_type": "stream",
     "text": [
      "\r",
      "                                                                                \r"
     ]
    }
   ],
   "source": [
    "vtrain_df.show()"
   ]
  },
  {
   "cell_type": "markdown",
   "id": "2139a053",
   "metadata": {},
   "source": [
    "# Regression Modeling"
   ]
  },
  {
   "cell_type": "code",
   "execution_count": 23,
   "id": "caeaa5b0",
   "metadata": {},
   "outputs": [],
   "source": [
    "from pyspark.ml.regression import LinearRegression"
   ]
  },
  {
   "cell_type": "code",
   "execution_count": 25,
   "id": "2980ec62",
   "metadata": {},
   "outputs": [],
   "source": [
    "lr = LinearRegression(\n",
    "    maxIter=50, # 반복수\n",
    "    labelCol=\"total_amount\", # Label(Traget)\n",
    "    featuresCol='features' # features\n",
    "    )"
   ]
  },
  {
   "cell_type": "code",
   "execution_count": 26,
   "id": "568a3c58",
   "metadata": {},
   "outputs": [
    {
     "name": "stderr",
     "output_type": "stream",
     "text": [
      "22/07/05 21:26:32 WARN Instrumentation: [78c4eff9] regParam is zero, which might cause numerical instability and overfitting.\n",
      "22/07/05 21:26:36 WARN InstanceBuilder$NativeBLAS: Failed to load implementation from:dev.ludovic.netlib.blas.JNIBLAS\n",
      "22/07/05 21:26:36 WARN InstanceBuilder$NativeBLAS: Failed to load implementation from:dev.ludovic.netlib.blas.ForeignLinkerBLAS\n",
      "22/07/05 21:26:49 WARN InstanceBuilder$NativeLAPACK: Failed to load implementation from:dev.ludovic.netlib.lapack.JNILAPACK\n",
      "                                                                                \r"
     ]
    }
   ],
   "source": [
    "model = lr.fit(vtrain_df)"
   ]
  },
  {
   "cell_type": "code",
   "execution_count": 27,
   "id": "fdaaae4b",
   "metadata": {},
   "outputs": [],
   "source": [
    "vtest_df = vassembler.transform(test_df)"
   ]
  },
  {
   "cell_type": "code",
   "execution_count": 28,
   "id": "7c761a16",
   "metadata": {},
   "outputs": [],
   "source": [
    "prediction = model.transform(vtest_df)"
   ]
  },
  {
   "cell_type": "code",
   "execution_count": 29,
   "id": "aaa3e7e9",
   "metadata": {},
   "outputs": [
    {
     "name": "stderr",
     "output_type": "stream",
     "text": [
      "\r",
      "[Stage 24:>                                                         (0 + 1) / 1]\r"
     ]
    },
    {
     "name": "stdout",
     "output_type": "stream",
     "text": [
      "+-------------+------------+--------+-----------------+\n",
      "|trip_distance|total_amount|features|       prediction|\n",
      "+-------------+------------+--------+-----------------+\n",
      "|          0.0|         0.3|   [0.0]|10.02494342783143|\n",
      "|          0.0|         0.3|   [0.0]|10.02494342783143|\n",
      "|          0.0|         0.3|   [0.0]|10.02494342783143|\n",
      "|          0.0|         0.3|   [0.0]|10.02494342783143|\n",
      "|          0.0|         0.3|   [0.0]|10.02494342783143|\n",
      "|          0.0|         0.3|   [0.0]|10.02494342783143|\n",
      "|          0.0|         0.3|   [0.0]|10.02494342783143|\n",
      "|          0.0|         0.3|   [0.0]|10.02494342783143|\n",
      "|          0.0|         0.3|   [0.0]|10.02494342783143|\n",
      "|          0.0|         0.3|   [0.0]|10.02494342783143|\n",
      "|          0.0|        0.31|   [0.0]|10.02494342783143|\n",
      "|          0.0|        0.31|   [0.0]|10.02494342783143|\n",
      "|          0.0|        0.31|   [0.0]|10.02494342783143|\n",
      "|          0.0|        0.31|   [0.0]|10.02494342783143|\n",
      "|          0.0|        0.31|   [0.0]|10.02494342783143|\n",
      "|          0.0|        0.31|   [0.0]|10.02494342783143|\n",
      "|          0.0|        0.31|   [0.0]|10.02494342783143|\n",
      "|          0.0|        0.31|   [0.0]|10.02494342783143|\n",
      "|          0.0|        0.31|   [0.0]|10.02494342783143|\n",
      "|          0.0|        0.31|   [0.0]|10.02494342783143|\n",
      "+-------------+------------+--------+-----------------+\n",
      "only showing top 20 rows\n",
      "\n"
     ]
    },
    {
     "name": "stderr",
     "output_type": "stream",
     "text": [
      "\r",
      "                                                                                \r"
     ]
    }
   ],
   "source": [
    "prediction.show()"
   ]
  },
  {
   "cell_type": "markdown",
   "id": "7689d1a2",
   "metadata": {},
   "source": [
    "## Evaluation"
   ]
  },
  {
   "cell_type": "code",
   "execution_count": 30,
   "id": "ba51771f",
   "metadata": {},
   "outputs": [
    {
     "data": {
      "text/plain": [
       "7.917755939489453"
      ]
     },
     "execution_count": 30,
     "metadata": {},
     "output_type": "execute_result"
    }
   ],
   "source": [
    "model.summary.rootMeanSquaredError "
   ]
  },
  {
   "cell_type": "code",
   "execution_count": 31,
   "id": "a00d5a73",
   "metadata": {},
   "outputs": [
    {
     "data": {
      "text/plain": [
       "0.708351522988141"
      ]
     },
     "execution_count": 31,
     "metadata": {},
     "output_type": "execute_result"
    }
   ],
   "source": [
    "model.summary.r2"
   ]
  },
  {
   "cell_type": "markdown",
   "id": "cfcc5404",
   "metadata": {},
   "source": [
    "- R2 : 70%가 나온것으로 봤을때, 좋은 성능은 아니지만 적당하다는 것을 알 수 있다."
   ]
  },
  {
   "cell_type": "code",
   "execution_count": 32,
   "id": "325b3c68",
   "metadata": {},
   "outputs": [],
   "source": [
    "from pyspark.sql.types import DoubleType\n",
    "distance_list = [1.1, 5.5, 10.5, 30.0]\n",
    "distance_df = spark.createDataFrame(distance_list, DoubleType()).toDF('trip_distance')"
   ]
  },
  {
   "cell_type": "code",
   "execution_count": 33,
   "id": "9382ada1",
   "metadata": {},
   "outputs": [
    {
     "name": "stderr",
     "output_type": "stream",
     "text": [
      "\r",
      "[Stage 25:>                                                         (0 + 1) / 1]\r",
      "\r",
      "                                                                                \r"
     ]
    },
    {
     "name": "stdout",
     "output_type": "stream",
     "text": [
      "+-------------+\n",
      "|trip_distance|\n",
      "+-------------+\n",
      "|          1.1|\n",
      "|          5.5|\n",
      "|         10.5|\n",
      "|         30.0|\n",
      "+-------------+\n",
      "\n"
     ]
    }
   ],
   "source": [
    "distance_df.show()"
   ]
  },
  {
   "cell_type": "code",
   "execution_count": 34,
   "id": "d62c6332",
   "metadata": {},
   "outputs": [],
   "source": [
    "vdistance_df = vassembler.transform(distance_df)"
   ]
  },
  {
   "cell_type": "code",
   "execution_count": 35,
   "id": "c8c2fb74",
   "metadata": {},
   "outputs": [
    {
     "name": "stdout",
     "output_type": "stream",
     "text": [
      "+-------------+--------+\n",
      "|trip_distance|features|\n",
      "+-------------+--------+\n",
      "|          1.1|   [1.1]|\n",
      "|          5.5|   [5.5]|\n",
      "|         10.5|  [10.5]|\n",
      "|         30.0|  [30.0]|\n",
      "+-------------+--------+\n",
      "\n"
     ]
    }
   ],
   "source": [
    "vdistance_df.show()"
   ]
  },
  {
   "cell_type": "code",
   "execution_count": 36,
   "id": "3ae6b950",
   "metadata": {},
   "outputs": [
    {
     "name": "stdout",
     "output_type": "stream",
     "text": [
      "+-------------+--------+------------------+\n",
      "|trip_distance|features|        prediction|\n",
      "+-------------+--------+------------------+\n",
      "|          1.1|   [1.1]| 13.32749535190366|\n",
      "|          5.5|   [5.5]|26.537703048192583|\n",
      "|         10.5|  [10.5]| 41.54930270306636|\n",
      "|         30.0|  [30.0]|100.09454135707409|\n",
      "+-------------+--------+------------------+\n",
      "\n"
     ]
    }
   ],
   "source": [
    "model.transform(vdistance_df).show()"
   ]
  },
  {
   "cell_type": "markdown",
   "id": "307e4043",
   "metadata": {},
   "source": [
    "- 10마일 정도 가는데 41불으로 예측된다.\n",
    "- 거리가 커질수록 예측률도 커지는 것으로 알 수 있었다."
   ]
  },
  {
   "cell_type": "code",
   "execution_count": null,
   "id": "10ac4fe4",
   "metadata": {},
   "outputs": [],
   "source": []
  }
 ],
 "metadata": {
  "kernelspec": {
   "display_name": "Python 3 (ipykernel)",
   "language": "python",
   "name": "python3"
  },
  "language_info": {
   "codemirror_mode": {
    "name": "ipython",
    "version": 3
   },
   "file_extension": ".py",
   "mimetype": "text/x-python",
   "name": "python",
   "nbconvert_exporter": "python",
   "pygments_lexer": "ipython3",
   "version": "3.9.7"
  }
 },
 "nbformat": 4,
 "nbformat_minor": 5
}
