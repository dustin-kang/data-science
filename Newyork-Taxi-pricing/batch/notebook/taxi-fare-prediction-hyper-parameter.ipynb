{
 "cells": [
  {
   "cell_type": "code",
   "execution_count": 1,
   "id": "31502a31",
   "metadata": {},
   "outputs": [],
   "source": [
    "from pyspark.sql import SparkSession"
   ]
  },
  {
   "cell_type": "code",
   "execution_count": 2,
   "id": "3612d61f",
   "metadata": {},
   "outputs": [
    {
     "name": "stderr",
     "output_type": "stream",
     "text": [
      "22/07/19 20:30:27 WARN Utils: Your hostname, dongwoo.local resolves to a loopback address: 127.0.0.1; using 192.168.55.122 instead (on interface en0)\n",
      "22/07/19 20:30:27 WARN Utils: Set SPARK_LOCAL_IP if you need to bind to another address\n",
      "WARNING: An illegal reflective access operation has occurred\n",
      "WARNING: Illegal reflective access by org.apache.spark.unsafe.Platform (file:/Users/dongwoo/opt/anaconda3/lib/python3.9/site-packages/pyspark/jars/spark-unsafe_2.12-3.2.1.jar) to constructor java.nio.DirectByteBuffer(long,int)\n",
      "WARNING: Please consider reporting this to the maintainers of org.apache.spark.unsafe.Platform\n",
      "WARNING: Use --illegal-access=warn to enable warnings of further illegal reflective access operations\n",
      "WARNING: All illegal access operations will be denied in a future release\n",
      "Using Spark's default log4j profile: org/apache/spark/log4j-defaults.properties\n",
      "Setting default log level to \"WARN\".\n",
      "To adjust logging level use sc.setLogLevel(newLevel). For SparkR, use setLogLevel(newLevel).\n",
      "22/07/19 20:30:28 WARN NativeCodeLoader: Unable to load native-hadoop library for your platform... using builtin-java classes where applicable\n"
     ]
    }
   ],
   "source": [
    "MAX_MEMORY = '5g'\n",
    "spark = SparkSession.builder.appName('taxi-fare-prediction')\\\n",
    "                    .config('spark.executor.memory', MAX_MEMORY)\\\n",
    "                    .config('spark.driver.memory', MAX_MEMORY)\\\n",
    "                    .getOrCreate()"
   ]
  },
  {
   "cell_type": "markdown",
   "id": "84c597c5",
   "metadata": {},
   "source": [
    "# 데이터프레임 생성"
   ]
  },
  {
   "cell_type": "markdown",
   "id": "b2bb9d20",
   "metadata": {},
   "source": [
    "### 데이터 저장\n",
    "- 추후 데이터를 가져오기 시간 단축을 위함"
   ]
  },
  {
   "cell_type": "code",
   "execution_count": 3,
   "id": "7516985b",
   "metadata": {},
   "outputs": [],
   "source": [
    "data_dir = \"/Users/dongwoo/new_york/data\""
   ]
  },
  {
   "cell_type": "code",
   "execution_count": 4,
   "id": "1033727e",
   "metadata": {},
   "outputs": [
    {
     "name": "stderr",
     "output_type": "stream",
     "text": [
      "\r",
      "[Stage 0:>                                                          (0 + 1) / 1]\r",
      "\r",
      "                                                                                \r"
     ]
    }
   ],
   "source": [
    "# 데이터 불러오기\n",
    "train_df = spark.read.parquet(f\"{data_dir}/train/\")\n",
    "test_df = spark.read.parquet(f\"{data_dir}/test/\")"
   ]
  },
  {
   "cell_type": "code",
   "execution_count": 5,
   "id": "fd7491e0",
   "metadata": {},
   "outputs": [],
   "source": [
    "# 하이퍼 파라미터 튜닝을 위해 10%의 데이터만 가져옵니다.\n",
    "toy_df = train_df.sample(False, 0.1, seed=1)"
   ]
  },
  {
   "cell_type": "code",
   "execution_count": 6,
   "id": "6e8c2eb1",
   "metadata": {},
   "outputs": [
    {
     "name": "stdout",
     "output_type": "stream",
     "text": [
      "root\n",
      " |-- passenger_count: integer (nullable = true)\n",
      " |-- pickup_location_id: integer (nullable = true)\n",
      " |-- dropoff_location_id: integer (nullable = true)\n",
      " |-- trip_distance: double (nullable = true)\n",
      " |-- pickup_time: integer (nullable = true)\n",
      " |-- day_of_week: string (nullable = true)\n",
      " |-- total_amount: double (nullable = true)\n",
      "\n"
     ]
    }
   ],
   "source": [
    "toy_df.printSchema()"
   ]
  },
  {
   "cell_type": "markdown",
   "id": "3037ba55",
   "metadata": {},
   "source": [
    "# Data Preprocessing"
   ]
  },
  {
   "cell_type": "markdown",
   "id": "f80c341b",
   "metadata": {},
   "source": [
    "### One Hot Encoding & String Indexer\n",
    "> Categorical Data를 벡터화 합니다. \n",
    "\n",
    "- String Indexer는 `inputCol`컬럼을 인덱싱하여 `OutputCol` 컬럼을 새로 만드는 것이다.\n",
    "- 레이블 빈도에 따라 정렬되므로 가장 빈번한 레이블은 0번째 인덱스를 갖는다.\n",
    "- `.setHandleInvalid(\"keep\")`은 변환 중 해당하지 않은 값이 들어올 떄 문제를 대처하는 역할을 한다. \"keep\", \"error\" or \"skip\"\n",
    "- [참고자료](https://knight76.tistory.com/entry/spark-머신-러닝-StringIndexer-예)\n",
    "\n",
    "\n",
    "`pickup_location_id` >> `pickup_location_id_index` >> **`pickup_location_id_onehot`**"
   ]
  },
  {
   "cell_type": "code",
   "execution_count": 7,
   "id": "d03694f5",
   "metadata": {},
   "outputs": [],
   "source": [
    "from pyspark.ml.feature import OneHotEncoder, StringIndexer\n",
    "\n",
    "cat_feats = [\n",
    "    \"pickup_location_id\",\n",
    "    \"dropoff_location_id\",\n",
    "    \"day_of_week\"\n",
    "]\n",
    "\n",
    "stages = []\n",
    "\n",
    "for c in cat_feats:\n",
    "    cat_indexer = StringIndexer(inputCol = c, outputCol = c + \"_idex\").setHandleInvalid(\"keep\") \n",
    "    onehot_encoder = OneHotEncoder(inputCols=[cat_indexer.getOutputCol()], outputCols=[c + \"_onehot\"])\n",
    "    \n",
    "    stages += [cat_indexer, onehot_encoder] "
   ]
  },
  {
   "cell_type": "code",
   "execution_count": 8,
   "id": "220d9970",
   "metadata": {},
   "outputs": [
    {
     "data": {
      "text/plain": [
       "[StringIndexer_44df6697e345,\n",
       " OneHotEncoder_c31928683ae0,\n",
       " StringIndexer_92938840dea6,\n",
       " OneHotEncoder_ca9a2360f294,\n",
       " StringIndexer_8ff6adf0c1d3,\n",
       " OneHotEncoder_762182f56127]"
      ]
     },
     "execution_count": 8,
     "metadata": {},
     "output_type": "execute_result"
    }
   ],
   "source": [
    "stages"
   ]
  },
  {
   "cell_type": "markdown",
   "id": "c96e71c5",
   "metadata": {},
   "source": [
    "### Vector Assembler & StandardScaler\n",
    "> Numerical Data를 벡터화 합니다.\n",
    "\n",
    "\n",
    "`passenger_count` >> `passenger_count_vector` >> **`passenger_count_scaled`**"
   ]
  },
  {
   "cell_type": "code",
   "execution_count": 9,
   "id": "34c99a0d",
   "metadata": {},
   "outputs": [],
   "source": [
    "from pyspark.ml.feature import VectorAssembler, StandardScaler\n",
    "\n",
    "num_feats = [\n",
    "    \"passenger_count\",\n",
    "    \"trip_distance\",\n",
    "    \"pickup_time\"\n",
    "]\n",
    "\n",
    "for n in num_feats:\n",
    "    num_assembler = VectorAssembler(inputCols=[n], outputCol= n + \"_vector\")\n",
    "    num_scaler = StandardScaler(inputCol=num_assembler.getOutputCol(), outputCol= n + \"_scaled\")\n",
    "    \n",
    "    stages += [num_assembler, num_scaler]"
   ]
  },
  {
   "cell_type": "code",
   "execution_count": 10,
   "id": "9b88b3e0",
   "metadata": {},
   "outputs": [
    {
     "data": {
      "text/plain": [
       "[StringIndexer_44df6697e345,\n",
       " OneHotEncoder_c31928683ae0,\n",
       " StringIndexer_92938840dea6,\n",
       " OneHotEncoder_ca9a2360f294,\n",
       " StringIndexer_8ff6adf0c1d3,\n",
       " OneHotEncoder_762182f56127,\n",
       " VectorAssembler_4a49fbfbbd81,\n",
       " StandardScaler_0dd48c80dec5,\n",
       " VectorAssembler_453d86af5849,\n",
       " StandardScaler_2394e557a8f6,\n",
       " VectorAssembler_714b219fe874,\n",
       " StandardScaler_333d1ca380af]"
      ]
     },
     "execution_count": 10,
     "metadata": {},
     "output_type": "execute_result"
    }
   ],
   "source": [
    "stages"
   ]
  },
  {
   "cell_type": "markdown",
   "id": "e3e5130b",
   "metadata": {},
   "source": [
    "### 두 벡터화 된 컬럼을 다시 벡터화로 합친다.\n",
    "\n",
    "`passenger_count_scaled` + `passenger_count_scaled` >> **`feature_vector`**"
   ]
  },
  {
   "cell_type": "code",
   "execution_count": 11,
   "id": "d5934eeb",
   "metadata": {},
   "outputs": [],
   "source": [
    "assembler_inputs = [c + \"_onehot\" for c in cat_feats] + [n + \"_scaled\" for n in num_feats]\n",
    "assembler = VectorAssembler(inputCols=assembler_inputs, outputCol=\"feature_vector\")\n",
    "stages += [assembler]"
   ]
  },
  {
   "cell_type": "code",
   "execution_count": 12,
   "id": "38fbe2a2",
   "metadata": {},
   "outputs": [
    {
     "data": {
      "text/plain": [
       "[StringIndexer_44df6697e345,\n",
       " OneHotEncoder_c31928683ae0,\n",
       " StringIndexer_92938840dea6,\n",
       " OneHotEncoder_ca9a2360f294,\n",
       " StringIndexer_8ff6adf0c1d3,\n",
       " OneHotEncoder_762182f56127,\n",
       " VectorAssembler_4a49fbfbbd81,\n",
       " StandardScaler_0dd48c80dec5,\n",
       " VectorAssembler_453d86af5849,\n",
       " StandardScaler_2394e557a8f6,\n",
       " VectorAssembler_714b219fe874,\n",
       " StandardScaler_333d1ca380af,\n",
       " VectorAssembler_07b46ea70076]"
      ]
     },
     "execution_count": 12,
     "metadata": {},
     "output_type": "execute_result"
    }
   ],
   "source": [
    "stages"
   ]
  },
  {
   "cell_type": "markdown",
   "id": "f24fb84a",
   "metadata": {},
   "source": [
    "## Hyper-Parameter Tuning"
   ]
  },
  {
   "cell_type": "code",
   "execution_count": 13,
   "id": "b57a3795",
   "metadata": {},
   "outputs": [],
   "source": [
    "from pyspark.ml import Pipeline\n",
    "from pyspark.ml.regression import LinearRegression\n",
    "from pyspark.ml.tuning import CrossValidator, ParamGridBuilder # CV, 그리드 형식 테스트\n",
    "from pyspark.ml.evaluation import RegressionEvaluator\n",
    "\n",
    "lr = LinearRegression(\n",
    "    maxIter=30,\n",
    "    solver='normal',\n",
    "    labelCol='total_amount',\n",
    "    featuresCol='feature_vector'\n",
    ")\n",
    "\n",
    "cv_stages = stages + [lr] \n",
    "\n",
    "# 파이프라인에 기존 stages + 모델을 넣습니다.\n",
    "cv_pipe = Pipeline(stages=cv_stages)"
   ]
  },
  {
   "cell_type": "code",
   "execution_count": 14,
   "id": "6d01d377",
   "metadata": {},
   "outputs": [],
   "source": [
    "param_grid = ParamGridBuilder()\\\n",
    "            .addGrid(lr.elasticNetParam, [0.1, 0.2, 0.3, 0.4, 0.5])\\\n",
    "            .addGrid(lr.regParam, [0.01, 0.02, 0.03, 0.04, 0.05])\\\n",
    "            .build()\n",
    "\n",
    "# 여러가지의 값들을 테스트 한다."
   ]
  },
  {
   "cell_type": "code",
   "execution_count": 15,
   "id": "519e22a7",
   "metadata": {},
   "outputs": [],
   "source": [
    "cross_val = CrossValidator(estimator=cv_pipe,\n",
    "                          estimatorParamMaps=param_grid,\n",
    "                          evaluator=RegressionEvaluator(labelCol=\"total_amount\"),\n",
    "                          numFolds=5 )\n",
    "# numFolds : 데이터를 5개로 나눔"
   ]
  },
  {
   "cell_type": "code",
   "execution_count": 16,
   "id": "a3c2a684",
   "metadata": {},
   "outputs": [
    {
     "name": "stderr",
     "output_type": "stream",
     "text": [
      "22/07/19 20:30:59 WARN InstanceBuilder$NativeBLAS: Failed to load implementation from:dev.ludovic.netlib.blas.JNIBLAS\n",
      "22/07/19 20:30:59 WARN InstanceBuilder$NativeBLAS: Failed to load implementation from:dev.ludovic.netlib.blas.ForeignLinkerBLAS\n",
      "22/07/19 20:31:01 WARN BLAS: Failed to load implementation from: com.github.fommil.netlib.NativeSystemBLAS\n",
      "22/07/19 20:31:01 WARN BLAS: Failed to load implementation from: com.github.fommil.netlib.NativeRefBLAS\n",
      "                                                                                \r"
     ]
    }
   ],
   "source": [
    "cv_model = cross_val.fit(toy_df)"
   ]
  },
  {
   "cell_type": "code",
   "execution_count": 17,
   "id": "5156c420",
   "metadata": {},
   "outputs": [],
   "source": [
    "alpha = cv_model.bestModel.stages[-1]._java_obj.getElasticNetParam() # 베스트 모델의 마지막 요소 추출"
   ]
  },
  {
   "cell_type": "code",
   "execution_count": 18,
   "id": "129d2ab7",
   "metadata": {},
   "outputs": [],
   "source": [
    "reg_param = cv_model.bestModel.stages[-1]._java_obj.getRegParam() # 베스트 모델의 마지막 요소 추출"
   ]
  },
  {
   "cell_type": "code",
   "execution_count": 20,
   "id": "cb630eab",
   "metadata": {},
   "outputs": [
    {
     "name": "stdout",
     "output_type": "stream",
     "text": [
      "None\n"
     ]
    }
   ],
   "source": [
    "import pandas as pd\n",
    "hyperparam = {\n",
    "    'alpha' : [alpha],\n",
    "    'reg_param' : [reg_param]\n",
    "}\n",
    "hyper_df = pd.DataFrame(hyperparam).to_csv(f\"{data_dir}hyperparameter.csv\")\n",
    "print(hyper_df)"
   ]
  },
  {
   "cell_type": "markdown",
   "id": "b6f9afba",
   "metadata": {},
   "source": [
    "## Training"
   ]
  },
  {
   "cell_type": "code",
   "execution_count": 36,
   "id": "dbe60ec5",
   "metadata": {},
   "outputs": [
    {
     "name": "stderr",
     "output_type": "stream",
     "text": [
      "                                                                                \r"
     ]
    }
   ],
   "source": [
    "from pyspark.ml import Pipeline\n",
    "\n",
    "tf_stages = stages # Processing을 완료한 stages\n",
    "pipe = Pipeline(stages=tf_stages) # 파이프라인을 구축\n",
    "\n",
    "tf_fit = pipe.fit(train_df) # fit"
   ]
  },
  {
   "cell_type": "code",
   "execution_count": 37,
   "id": "00803f70",
   "metadata": {},
   "outputs": [],
   "source": [
    "v_train_df = tf_fit.transform(train_df) # transform"
   ]
  },
  {
   "cell_type": "code",
   "execution_count": 38,
   "id": "98fbe2a8",
   "metadata": {},
   "outputs": [
    {
     "name": "stdout",
     "output_type": "stream",
     "text": [
      "root\n",
      " |-- passenger_count: integer (nullable = true)\n",
      " |-- pickup_location_id: integer (nullable = true)\n",
      " |-- dropoff_location_id: integer (nullable = true)\n",
      " |-- trip_distance: double (nullable = true)\n",
      " |-- pickup_time: integer (nullable = true)\n",
      " |-- day_of_week: string (nullable = true)\n",
      " |-- total_amount: double (nullable = true)\n",
      " |-- pickup_location_id_idex: double (nullable = false)\n",
      " |-- pickup_location_id_onehot: vector (nullable = true)\n",
      " |-- dropoff_location_id_idex: double (nullable = false)\n",
      " |-- dropoff_location_id_onehot: vector (nullable = true)\n",
      " |-- day_of_week_idex: double (nullable = false)\n",
      " |-- day_of_week_onehot: vector (nullable = true)\n",
      " |-- passenger_count_vector: vector (nullable = true)\n",
      " |-- passenger_count_scaled: vector (nullable = true)\n",
      " |-- trip_distance_vector: vector (nullable = true)\n",
      " |-- trip_distance_scaled: vector (nullable = true)\n",
      " |-- pickup_time_vector: vector (nullable = true)\n",
      " |-- pickup_time_scaled: vector (nullable = true)\n",
      " |-- feature_vector: vector (nullable = true)\n",
      "\n"
     ]
    }
   ],
   "source": [
    "v_train_df.printSchema()"
   ]
  },
  {
   "cell_type": "markdown",
   "id": "2139a053",
   "metadata": {},
   "source": [
    "# Regression Modeling"
   ]
  },
  {
   "cell_type": "code",
   "execution_count": 39,
   "id": "caeaa5b0",
   "metadata": {},
   "outputs": [],
   "source": [
    "from pyspark.ml.regression import LinearRegression"
   ]
  },
  {
   "cell_type": "code",
   "execution_count": 40,
   "id": "2980ec62",
   "metadata": {},
   "outputs": [],
   "source": [
    "lr = LinearRegression(\n",
    "    maxIter=5, # 반복수\n",
    "    solver=\"normal\",\n",
    "    labelCol=\"total_amount\", # Label(Traget)\n",
    "    featuresCol='feature_vector', # 전처리 후 > feature -> feature_vector\n",
    "    # 추가 #\n",
    "    elasticNetParam = alpha,\n",
    "    regParam = reg_param,\n",
    "    )"
   ]
  },
  {
   "cell_type": "code",
   "execution_count": 41,
   "id": "568a3c58",
   "metadata": {},
   "outputs": [
    {
     "name": "stderr",
     "output_type": "stream",
     "text": [
      "                                                                                \r"
     ]
    }
   ],
   "source": [
    "model = lr.fit(v_train_df)"
   ]
  },
  {
   "cell_type": "code",
   "execution_count": 42,
   "id": "fdaaae4b",
   "metadata": {},
   "outputs": [],
   "source": [
    "vtest_df = tf_fit.transform(test_df) # test 데이터는 fit을 하지 않습니다. "
   ]
  },
  {
   "cell_type": "code",
   "execution_count": 43,
   "id": "7c761a16",
   "metadata": {},
   "outputs": [],
   "source": [
    "prediction = model.transform(vtest_df)"
   ]
  },
  {
   "cell_type": "code",
   "execution_count": 44,
   "id": "aaa3e7e9",
   "metadata": {},
   "outputs": [
    {
     "name": "stdout",
     "output_type": "stream",
     "text": [
      "+---------------+------------------+-------------------+-------------+-----------+-----------+------------+-----------------------+-------------------------+------------------------+--------------------------+----------------+------------------+----------------------+----------------------+--------------------+--------------------+------------------+--------------------+--------------------+------------------+\n",
      "|passenger_count|pickup_location_id|dropoff_location_id|trip_distance|pickup_time|day_of_week|total_amount|pickup_location_id_idex|pickup_location_id_onehot|dropoff_location_id_idex|dropoff_location_id_onehot|day_of_week_idex|day_of_week_onehot|passenger_count_vector|passenger_count_scaled|trip_distance_vector|trip_distance_scaled|pickup_time_vector|  pickup_time_scaled|      feature_vector|        prediction|\n",
      "+---------------+------------------+-------------------+-------------+-----------+-----------+------------+-----------------------+-------------------------+------------------------+--------------------------+----------------+------------------+----------------------+----------------------+--------------------+--------------------+------------------+--------------------+--------------------+------------------+\n",
      "|              0|                 4|                  4|          0.5|         22|  Wednesday|         7.8|                   61.0|         (263,[61],[1.0])|                    50.0|          (261,[50],[1.0])|             3.0|     (7,[3],[1.0])|                 [0.0]|                 [0.0]|               [0.5]|[0.12148147583568...|            [22.0]|[2.6584653458016057]|(534,[61,313,527,...|11.641190505682586|\n",
      "|              0|                 4|                 13|          3.6|         11|     Sunday|        19.3|                   61.0|         (263,[61],[1.0])|                    44.0|          (261,[44],[1.0])|             5.0|     (7,[5],[1.0])|                 [0.0]|                 [0.0]|               [3.6]|[0.8746666260169578]|            [11.0]|[1.3292326729008028]|(534,[61,307,529,...|20.540566626969913|\n",
      "|              0|                 4|                 45|          3.7|         20|   Saturday|        18.8|                   61.0|         (263,[61],[1.0])|                    63.0|          (261,[63],[1.0])|             2.0|     (7,[2],[1.0])|                 [0.0]|                 [0.0]|               [3.7]|[0.8989629211840955]|            [20.0]|[2.4167866780014595]|(534,[61,326,526,...|20.131319716807788|\n",
      "|              0|                 4|                 48|          4.1|          1|  Wednesday|        24.3|                   61.0|         (263,[61],[1.0])|                     9.0|           (261,[9],[1.0])|             3.0|     (7,[3],[1.0])|                 [0.0]|                 [0.0]|               [4.1]|[0.9961481018526462]|             [1.0]|[0.12083933390007...|(534,[61,272,527,...| 21.42231124221469|\n",
      "|              0|                 4|                 68|          2.2|          1|  Wednesday|        16.8|                   61.0|         (263,[61],[1.0])|                    13.0|          (261,[13],[1.0])|             3.0|     (7,[3],[1.0])|                 [0.0]|                 [0.0]|               [2.2]|[0.5345184936770297]|             [1.0]|[0.12083933390007...|(534,[61,276,527,...|16.676868064645753|\n",
      "|              0|                 4|                 68|          2.6|         23|     Monday|        17.8|                   61.0|         (263,[61],[1.0])|                    13.0|          (261,[13],[1.0])|             6.0|     (7,[6],[1.0])|                 [0.0]|                 [0.0]|               [2.6]|[0.6317036743455806]|            [23.0]|[2.7793046797016787]|(534,[61,276,530,...| 16.41476544059132|\n",
      "|              0|                 4|                 75|          6.3|         12|     Sunday|       29.15|                   61.0|         (263,[61],[1.0])|                    25.0|          (261,[25],[1.0])|             5.0|     (7,[5],[1.0])|                 [0.0]|                 [0.0]|               [6.3]| [1.530666595529676]|            [12.0]| [1.450072006800876]|(534,[61,288,529,...| 25.01156542009558|\n",
      "|              0|                 4|                 79|          0.6|          8|   Saturday|        9.95|                   61.0|         (263,[61],[1.0])|                    18.0|          (261,[18],[1.0])|             2.0|     (7,[2],[1.0])|                 [0.0]|                 [0.0]|               [0.6]|[0.1457777710028263]|             [8.0]|[0.9667146712005839]|(534,[61,281,526,...| 12.29694066590555|\n",
      "|              0|                 4|                 79|          0.8|          1|  Wednesday|         9.3|                   61.0|         (263,[61],[1.0])|                    18.0|          (261,[18],[1.0])|             3.0|     (7,[3],[1.0])|                 [0.0]|                 [0.0]|               [0.8]|[0.19437036133710...|             [1.0]|[0.12083933390007...|(534,[61,281,527,...|13.180225723279165|\n",
      "|              0|                 4|                 79|          0.8|          4|     Friday|        0.31|                   61.0|         (263,[61],[1.0])|                    18.0|          (261,[18],[1.0])|             1.0|     (7,[1],[1.0])|                 [0.0]|                 [0.0]|               [0.8]|[0.19437036133710...|             [4.0]|[0.4833573356002919]|(534,[61,281,525,...|13.265223243052434|\n",
      "|              0|                 4|                 79|          1.0|         23|  Wednesday|       11.75|                   61.0|         (263,[61],[1.0])|                    18.0|          (261,[18],[1.0])|             3.0|     (7,[3],[1.0])|                 [0.0]|                 [0.0]|               [1.0]|[0.24296295167137...|            [23.0]|[2.7793046797016787]|(534,[61,281,527,...| 12.85238397446231|\n",
      "|              0|                 4|                114|          0.6|         21|     Monday|        9.95|                   61.0|         (263,[61],[1.0])|                    36.0|          (261,[36],[1.0])|             6.0|     (7,[6],[1.0])|                 [0.0]|                 [0.0]|               [0.6]|[0.1457777710028263]|            [21.0]|[2.5376260119015326]|(534,[61,299,530,...|11.859467517835556|\n",
      "|              0|                 4|                114|          1.1|          4|    Tuesday|       12.95|                   61.0|         (263,[61],[1.0])|                    36.0|          (261,[36],[1.0])|             4.0|     (7,[4],[1.0])|                 [0.0]|                 [0.0]|               [1.1]|[0.2672592468385149]|             [4.0]|[0.4833573356002919]|(534,[61,299,528,...|14.025801980241683|\n",
      "|              0|                 4|                114|          1.1|         22|  Wednesday|        11.3|                   61.0|         (263,[61],[1.0])|                    36.0|          (261,[36],[1.0])|             3.0|     (7,[3],[1.0])|                 [0.0]|                 [0.0]|               [1.1]|[0.2672592468385149]|            [22.0]|[2.6584653458016057]|(534,[61,299,527,...|13.504442196333802|\n",
      "|              0|                 4|                114|          2.1|          9|     Sunday|       15.95|                   61.0|         (263,[61],[1.0])|                    36.0|          (261,[36],[1.0])|             5.0|     (7,[5],[1.0])|                 [0.0]|                 [0.0]|               [2.1]| [0.510222198509892]|             [9.0]| [1.087554005100657]|(534,[61,299,529,...|15.869483906989915|\n",
      "|              0|                 4|                158|          1.9|         22|   Saturday|        15.3|                   61.0|         (263,[61],[1.0])|                    37.0|          (261,[37],[1.0])|             2.0|     (7,[2],[1.0])|                 [0.0]|                 [0.0]|               [1.9]|[0.4616296081756166]|            [22.0]|[2.6584653458016057]|(534,[61,300,526,...| 15.62932516015407|\n",
      "|              0|                 4|                163|          3.7|          9|     Monday|        18.3|                   61.0|         (263,[61],[1.0])|                    12.0|          (261,[12],[1.0])|             6.0|     (7,[6],[1.0])|                 [0.0]|                 [0.0]|               [3.7]|[0.8989629211840955]|             [9.0]| [1.087554005100657]|(534,[61,275,530,...|19.688630424153274|\n",
      "|              0|                 4|                163|          4.8|          0|  Wednesday|        33.8|                   61.0|         (263,[61],[1.0])|                    12.0|          (261,[12],[1.0])|             3.0|     (7,[3],[1.0])|                 [0.0]|                 [0.0]|               [4.8]|[1.1662221680226104]|             [0.0]|               [0.0]|(534,[61,275,527,...| 23.20823978032061|\n",
      "|              0|                 4|                163|          4.8|         22|    Tuesday|        26.8|                   61.0|         (263,[61],[1.0])|                    12.0|          (261,[12],[1.0])|             4.0|     (7,[4],[1.0])|                 [0.0]|                 [0.0]|               [4.8]|[1.1662221680226104]|            [22.0]|[2.6584653458016057]|(534,[61,275,528,...|22.225304867323413|\n",
      "|              0|                 4|                164|          2.8|          0|  Wednesday|        19.3|                   61.0|         (263,[61],[1.0])|                    20.0|          (261,[20],[1.0])|             3.0|     (7,[3],[1.0])|                 [0.0]|                 [0.0]|               [2.8]| [0.680296264679856]|             [0.0]|               [0.0]|(534,[61,283,527,...|18.213036435511203|\n",
      "+---------------+------------------+-------------------+-------------+-----------+-----------+------------+-----------------------+-------------------------+------------------------+--------------------------+----------------+------------------+----------------------+----------------------+--------------------+--------------------+------------------+--------------------+--------------------+------------------+\n",
      "only showing top 20 rows\n",
      "\n"
     ]
    }
   ],
   "source": [
    "prediction.show()"
   ]
  },
  {
   "cell_type": "code",
   "execution_count": 45,
   "id": "72b2562d",
   "metadata": {},
   "outputs": [
    {
     "data": {
      "text/plain": [
       "DataFrame[passenger_count: int, pickup_location_id: int, dropoff_location_id: int, trip_distance: double, pickup_time: int, day_of_week: string, total_amount: double, pickup_location_id_idex: double, pickup_location_id_onehot: vector, dropoff_location_id_idex: double, dropoff_location_id_onehot: vector, day_of_week_idex: double, day_of_week_onehot: vector, passenger_count_vector: vector, passenger_count_scaled: vector, trip_distance_vector: vector, trip_distance_scaled: vector, pickup_time_vector: vector, pickup_time_scaled: vector, feature_vector: vector, prediction: double]"
      ]
     },
     "execution_count": 45,
     "metadata": {},
     "output_type": "execute_result"
    }
   ],
   "source": [
    "prediction.cache()"
   ]
  },
  {
   "cell_type": "code",
   "execution_count": 46,
   "id": "86d73166",
   "metadata": {},
   "outputs": [
    {
     "name": "stderr",
     "output_type": "stream",
     "text": [
      "\r",
      "[Stage 3069:>                                                       (0 + 1) / 1]\r"
     ]
    },
    {
     "name": "stdout",
     "output_type": "stream",
     "text": [
      "+-------------+-----------+------------+------------------+\n",
      "|trip_distance|day_of_week|total_amount|        prediction|\n",
      "+-------------+-----------+------------+------------------+\n",
      "|          0.5|  Wednesday|         7.8|11.641190505682586|\n",
      "|          3.6|     Sunday|        19.3|20.540566626969913|\n",
      "|          3.7|   Saturday|        18.8|20.131319716807788|\n",
      "|          4.1|  Wednesday|        24.3| 21.42231124221469|\n",
      "|          2.2|  Wednesday|        16.8|16.676868064645753|\n",
      "|          2.6|     Monday|        17.8| 16.41476544059132|\n",
      "|          6.3|     Sunday|       29.15| 25.01156542009558|\n",
      "|          0.6|   Saturday|        9.95| 12.29694066590555|\n",
      "|          0.8|  Wednesday|         9.3|13.180225723279165|\n",
      "|          0.8|     Friday|        0.31|13.265223243052434|\n",
      "|          1.0|  Wednesday|       11.75| 12.85238397446231|\n",
      "|          0.6|     Monday|        9.95|11.859467517835556|\n",
      "|          1.1|    Tuesday|       12.95|14.025801980241683|\n",
      "|          1.1|  Wednesday|        11.3|13.504442196333802|\n",
      "|          2.1|     Sunday|       15.95|15.869483906989915|\n",
      "|          1.9|   Saturday|        15.3| 15.62932516015407|\n",
      "|          3.7|     Monday|        18.3|19.688630424153274|\n",
      "|          4.8|  Wednesday|        33.8| 23.20823978032061|\n",
      "|          4.8|    Tuesday|        26.8|22.225304867323413|\n",
      "|          2.8|  Wednesday|        19.3|18.213036435511203|\n",
      "+-------------+-----------+------------+------------------+\n",
      "only showing top 20 rows\n",
      "\n"
     ]
    },
    {
     "name": "stderr",
     "output_type": "stream",
     "text": [
      "\r",
      "                                                                                \r"
     ]
    }
   ],
   "source": [
    "prediction.select([\"trip_distance\", \"day_of_week\",\"total_amount\",\"prediction\"]).show()"
   ]
  },
  {
   "cell_type": "markdown",
   "id": "7689d1a2",
   "metadata": {},
   "source": [
    "## Evaluation"
   ]
  },
  {
   "cell_type": "code",
   "execution_count": 47,
   "id": "ba51771f",
   "metadata": {},
   "outputs": [
    {
     "data": {
      "text/plain": [
       "6.19539005933196"
      ]
     },
     "execution_count": 47,
     "metadata": {},
     "output_type": "execute_result"
    }
   ],
   "source": [
    "model.summary.rootMeanSquaredError "
   ]
  },
  {
   "cell_type": "code",
   "execution_count": 48,
   "id": "a00d5a73",
   "metadata": {},
   "outputs": [
    {
     "data": {
      "text/plain": [
       "0.8093767003552972"
      ]
     },
     "execution_count": 48,
     "metadata": {},
     "output_type": "execute_result"
    }
   ],
   "source": [
    "model.summary.r2"
   ]
  },
  {
   "cell_type": "markdown",
   "id": "cfcc5404",
   "metadata": {},
   "source": [
    "- R2 : 80%가 나온것으로 봤을때, 지난 성능보다 향상됬다고 볼 수 있다."
   ]
  },
  {
   "cell_type": "markdown",
   "id": "480f74c9",
   "metadata": {},
   "source": [
    "# Model Save"
   ]
  },
  {
   "cell_type": "code",
   "execution_count": 49,
   "id": "d1692032",
   "metadata": {},
   "outputs": [],
   "source": [
    "model_dir = f\"{data_dir}/model\"\n",
    "model.save(model_dir)"
   ]
  },
  {
   "cell_type": "code",
   "execution_count": 51,
   "id": "53c003ac",
   "metadata": {},
   "outputs": [
    {
     "name": "stdout",
     "output_type": "stream",
     "text": [
      "+---------------+------------------+-------------------+-------------+-----------+-----------+------------+-----------------------+-------------------------+------------------------+--------------------------+----------------+------------------+----------------------+----------------------+--------------------+--------------------+------------------+--------------------+--------------------+------------------+\n",
      "|passenger_count|pickup_location_id|dropoff_location_id|trip_distance|pickup_time|day_of_week|total_amount|pickup_location_id_idex|pickup_location_id_onehot|dropoff_location_id_idex|dropoff_location_id_onehot|day_of_week_idex|day_of_week_onehot|passenger_count_vector|passenger_count_scaled|trip_distance_vector|trip_distance_scaled|pickup_time_vector|  pickup_time_scaled|      feature_vector|        prediction|\n",
      "+---------------+------------------+-------------------+-------------+-----------+-----------+------------+-----------------------+-------------------------+------------------------+--------------------------+----------------+------------------+----------------------+----------------------+--------------------+--------------------+------------------+--------------------+--------------------+------------------+\n",
      "|              0|                 4|                  4|          0.5|         22|  Wednesday|         7.8|                   61.0|         (263,[61],[1.0])|                    50.0|          (261,[50],[1.0])|             3.0|     (7,[3],[1.0])|                 [0.0]|                 [0.0]|               [0.5]|[0.12148147583568...|            [22.0]|[2.6584653458016057]|(534,[61,313,527,...|11.641190505682586|\n",
      "|              0|                 4|                 13|          3.6|         11|     Sunday|        19.3|                   61.0|         (263,[61],[1.0])|                    44.0|          (261,[44],[1.0])|             5.0|     (7,[5],[1.0])|                 [0.0]|                 [0.0]|               [3.6]|[0.8746666260169578]|            [11.0]|[1.3292326729008028]|(534,[61,307,529,...|20.540566626969913|\n",
      "|              0|                 4|                 45|          3.7|         20|   Saturday|        18.8|                   61.0|         (263,[61],[1.0])|                    63.0|          (261,[63],[1.0])|             2.0|     (7,[2],[1.0])|                 [0.0]|                 [0.0]|               [3.7]|[0.8989629211840955]|            [20.0]|[2.4167866780014595]|(534,[61,326,526,...|20.131319716807788|\n",
      "|              0|                 4|                 48|          4.1|          1|  Wednesday|        24.3|                   61.0|         (263,[61],[1.0])|                     9.0|           (261,[9],[1.0])|             3.0|     (7,[3],[1.0])|                 [0.0]|                 [0.0]|               [4.1]|[0.9961481018526462]|             [1.0]|[0.12083933390007...|(534,[61,272,527,...| 21.42231124221469|\n",
      "|              0|                 4|                 68|          2.2|          1|  Wednesday|        16.8|                   61.0|         (263,[61],[1.0])|                    13.0|          (261,[13],[1.0])|             3.0|     (7,[3],[1.0])|                 [0.0]|                 [0.0]|               [2.2]|[0.5345184936770297]|             [1.0]|[0.12083933390007...|(534,[61,276,527,...|16.676868064645753|\n",
      "|              0|                 4|                 68|          2.6|         23|     Monday|        17.8|                   61.0|         (263,[61],[1.0])|                    13.0|          (261,[13],[1.0])|             6.0|     (7,[6],[1.0])|                 [0.0]|                 [0.0]|               [2.6]|[0.6317036743455806]|            [23.0]|[2.7793046797016787]|(534,[61,276,530,...| 16.41476544059132|\n",
      "|              0|                 4|                 75|          6.3|         12|     Sunday|       29.15|                   61.0|         (263,[61],[1.0])|                    25.0|          (261,[25],[1.0])|             5.0|     (7,[5],[1.0])|                 [0.0]|                 [0.0]|               [6.3]| [1.530666595529676]|            [12.0]| [1.450072006800876]|(534,[61,288,529,...| 25.01156542009558|\n",
      "|              0|                 4|                 79|          0.6|          8|   Saturday|        9.95|                   61.0|         (263,[61],[1.0])|                    18.0|          (261,[18],[1.0])|             2.0|     (7,[2],[1.0])|                 [0.0]|                 [0.0]|               [0.6]|[0.1457777710028263]|             [8.0]|[0.9667146712005839]|(534,[61,281,526,...| 12.29694066590555|\n",
      "|              0|                 4|                 79|          0.8|          1|  Wednesday|         9.3|                   61.0|         (263,[61],[1.0])|                    18.0|          (261,[18],[1.0])|             3.0|     (7,[3],[1.0])|                 [0.0]|                 [0.0]|               [0.8]|[0.19437036133710...|             [1.0]|[0.12083933390007...|(534,[61,281,527,...|13.180225723279165|\n",
      "|              0|                 4|                 79|          0.8|          4|     Friday|        0.31|                   61.0|         (263,[61],[1.0])|                    18.0|          (261,[18],[1.0])|             1.0|     (7,[1],[1.0])|                 [0.0]|                 [0.0]|               [0.8]|[0.19437036133710...|             [4.0]|[0.4833573356002919]|(534,[61,281,525,...|13.265223243052434|\n",
      "|              0|                 4|                 79|          1.0|         23|  Wednesday|       11.75|                   61.0|         (263,[61],[1.0])|                    18.0|          (261,[18],[1.0])|             3.0|     (7,[3],[1.0])|                 [0.0]|                 [0.0]|               [1.0]|[0.24296295167137...|            [23.0]|[2.7793046797016787]|(534,[61,281,527,...| 12.85238397446231|\n",
      "|              0|                 4|                114|          0.6|         21|     Monday|        9.95|                   61.0|         (263,[61],[1.0])|                    36.0|          (261,[36],[1.0])|             6.0|     (7,[6],[1.0])|                 [0.0]|                 [0.0]|               [0.6]|[0.1457777710028263]|            [21.0]|[2.5376260119015326]|(534,[61,299,530,...|11.859467517835556|\n",
      "|              0|                 4|                114|          1.1|          4|    Tuesday|       12.95|                   61.0|         (263,[61],[1.0])|                    36.0|          (261,[36],[1.0])|             4.0|     (7,[4],[1.0])|                 [0.0]|                 [0.0]|               [1.1]|[0.2672592468385149]|             [4.0]|[0.4833573356002919]|(534,[61,299,528,...|14.025801980241683|\n",
      "|              0|                 4|                114|          1.1|         22|  Wednesday|        11.3|                   61.0|         (263,[61],[1.0])|                    36.0|          (261,[36],[1.0])|             3.0|     (7,[3],[1.0])|                 [0.0]|                 [0.0]|               [1.1]|[0.2672592468385149]|            [22.0]|[2.6584653458016057]|(534,[61,299,527,...|13.504442196333802|\n",
      "|              0|                 4|                114|          2.1|          9|     Sunday|       15.95|                   61.0|         (263,[61],[1.0])|                    36.0|          (261,[36],[1.0])|             5.0|     (7,[5],[1.0])|                 [0.0]|                 [0.0]|               [2.1]| [0.510222198509892]|             [9.0]| [1.087554005100657]|(534,[61,299,529,...|15.869483906989915|\n",
      "|              0|                 4|                158|          1.9|         22|   Saturday|        15.3|                   61.0|         (263,[61],[1.0])|                    37.0|          (261,[37],[1.0])|             2.0|     (7,[2],[1.0])|                 [0.0]|                 [0.0]|               [1.9]|[0.4616296081756166]|            [22.0]|[2.6584653458016057]|(534,[61,300,526,...| 15.62932516015407|\n",
      "|              0|                 4|                163|          3.7|          9|     Monday|        18.3|                   61.0|         (263,[61],[1.0])|                    12.0|          (261,[12],[1.0])|             6.0|     (7,[6],[1.0])|                 [0.0]|                 [0.0]|               [3.7]|[0.8989629211840955]|             [9.0]| [1.087554005100657]|(534,[61,275,530,...|19.688630424153274|\n",
      "|              0|                 4|                163|          4.8|          0|  Wednesday|        33.8|                   61.0|         (263,[61],[1.0])|                    12.0|          (261,[12],[1.0])|             3.0|     (7,[3],[1.0])|                 [0.0]|                 [0.0]|               [4.8]|[1.1662221680226104]|             [0.0]|               [0.0]|(534,[61,275,527,...| 23.20823978032061|\n",
      "|              0|                 4|                163|          4.8|         22|    Tuesday|        26.8|                   61.0|         (263,[61],[1.0])|                    12.0|          (261,[12],[1.0])|             4.0|     (7,[4],[1.0])|                 [0.0]|                 [0.0]|               [4.8]|[1.1662221680226104]|            [22.0]|[2.6584653458016057]|(534,[61,275,528,...|22.225304867323413|\n",
      "|              0|                 4|                164|          2.8|          0|  Wednesday|        19.3|                   61.0|         (263,[61],[1.0])|                    20.0|          (261,[20],[1.0])|             3.0|     (7,[3],[1.0])|                 [0.0]|                 [0.0]|               [2.8]| [0.680296264679856]|             [0.0]|               [0.0]|(534,[61,283,527,...|18.213036435511203|\n",
      "+---------------+------------------+-------------------+-------------+-----------+-----------+------------+-----------------------+-------------------------+------------------------+--------------------------+----------------+------------------+----------------------+----------------------+--------------------+--------------------+------------------+--------------------+--------------------+------------------+\n",
      "only showing top 20 rows\n",
      "\n"
     ]
    }
   ],
   "source": [
    "from pyspark.ml.regression import LinearRegressionModel\n",
    "\n",
    "lr_model = LinearRegressionModel().load(model_dir)\n",
    "prediction = lr_model.transform(vtest_df)\n",
    "prediction.show()"
   ]
  },
  {
   "cell_type": "code",
   "execution_count": null,
   "id": "485ad718",
   "metadata": {},
   "outputs": [],
   "source": []
  }
 ],
 "metadata": {
  "kernelspec": {
   "display_name": "Python 3 (ipykernel)",
   "language": "python",
   "name": "python3"
  },
  "language_info": {
   "codemirror_mode": {
    "name": "ipython",
    "version": 3
   },
   "file_extension": ".py",
   "mimetype": "text/x-python",
   "name": "python",
   "nbconvert_exporter": "python",
   "pygments_lexer": "ipython3",
   "version": "3.9.7"
  }
 },
 "nbformat": 4,
 "nbformat_minor": 5
}
