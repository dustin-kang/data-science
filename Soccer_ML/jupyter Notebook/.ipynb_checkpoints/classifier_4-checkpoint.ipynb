{
 "cells": [
  {
   "cell_type": "markdown",
   "id": "3d3735ea",
   "metadata": {},
   "source": [
    "# Model Baseline \n",
    "<aside>\n",
    "\n",
    "### **💡 4) 머신러닝 방식 적용 및 교차검증**\n",
    "\n",
    "데이터의 탐색과 전처리 작업이 끝났다면 **모델링을 통해 베이스라인과의 성능 비교**를 해봅니다.\n",
    "\n",
    "- Linear / Tree-based / Ensemble 모델을 학습하세요. (다양하게 시도해보시는 걸 추천합니다.)\n",
    "- 평가지표를 계산 후 베이스라인과 비교해보세요.\n",
    "- 어느정도 성능이 나왔다면, 교차 검증 (이하 CV)을 통해서 일반화될 가능성이 있는지 확인해봅니다.\n",
    "- 모델 성능을 개선하기 위한 다양한 방법을 적용해보세요.\n",
    "    - Hyperparameter tuning, etc.\n",
    "- 최소 2개 이상의 모델을 만들어서 validation 점수를 보고하세요.\n",
    "- 최종 모델의 test 점수를 보고하세요.\n",
    "\n",
    "### **태스크를 수행한 후, 다음 질문에 대답할 수 있어야 합니다.**\n",
    "\n",
    "1. 모델을 학습한 후에 베이스라인보다 잘 나왔나요? 그렇지 않다면 그 이유는 무엇일까요?\n",
    "2. 모델 성능 개선을 위해 어떤 방법을 적용했나요? 그 방법을 선택한 이유는 무엇인가요?\n",
    "3. 최종 모델에 관해 설명하세요.\n",
    "</aside>"
   ]
  },
  {
   "cell_type": "markdown",
   "id": "2c938454",
   "metadata": {},
   "source": [
    "# Spliting Dataset\n",
    "- target 값을 `position` 으로 하고 선수들의 능력을 통해 포지션값을 분류할 예정."
   ]
  },
  {
   "cell_type": "code",
   "execution_count": 2,
   "id": "cc117b42",
   "metadata": {},
   "outputs": [],
   "source": [
    "import pandas as pd\n",
    "import numpy as np\n",
    "import warnings\n",
    "import matplotlib.pyplot as plt\n",
    "import seaborn as sns\n",
    "import matplotlib.pyplot as plt\n",
    "\n",
    "# 전체 컬럼 출력하기\n",
    "pd.set_option('display.max_columns', None)\n",
    "\n",
    "warnings.filterwarnings(\"ignore\")\n",
    "\n",
    "df_4 = pd.read_csv('../data/cls_data_4p.csv')\n",
    "df_11 = pd.read_csv('../data/cls_data_11p.csv')"
   ]
  },
  {
   "cell_type": "code",
   "execution_count": 3,
   "id": "bd4af560",
   "metadata": {},
   "outputs": [],
   "source": [
    "from sklearn.model_selection import train_test_split \n",
    "\n",
    "# 타겟(target)\n",
    "target = 'position'\n",
    "\n",
    "\n",
    "# 훈련 데이터 셋과 테스트 데이터 셋 분리\n",
    "train, test = train_test_split(df_4, random_state=2, train_size=.75, stratify=df_4[target])\n",
    "# 훈랸 데이터셋에서 훈련데이터 셋과 검증 데이터 셋 분리\n",
    "train, val = train_test_split(train, random_state=2, train_size=.75, stratify=train[target])\n",
    "\n",
    "# 특성(features)\n",
    "features = train.columns.drop(target)"
   ]
  },
  {
   "cell_type": "code",
   "execution_count": 4,
   "id": "99c9d075",
   "metadata": {},
   "outputs": [
    {
     "data": {
      "text/plain": [
       "((10656, 103), (3552, 103), (4736, 103))"
      ]
     },
     "execution_count": 4,
     "metadata": {},
     "output_type": "execute_result"
    }
   ],
   "source": [
    "train.shape, val.shape, test.shape"
   ]
  },
  {
   "cell_type": "code",
   "execution_count": 5,
   "id": "110111f0",
   "metadata": {},
   "outputs": [],
   "source": [
    "# X (features)\n",
    "X_train = train[features] \n",
    "X_val = val[features]\n",
    "X_test = test[features]\n",
    "\n",
    "# y (Target)\n",
    "y_train = train[target]\n",
    "y_val = val[target] \n",
    "y_test = test[target]"
   ]
  },
  {
   "cell_type": "markdown",
   "id": "87f4a017",
   "metadata": {},
   "source": [
    "## Classifier Modeling"
   ]
  },
  {
   "cell_type": "code",
   "execution_count": 19,
   "id": "a3f45a91",
   "metadata": {},
   "outputs": [
    {
     "name": "stdout",
     "output_type": "stream",
     "text": [
      "Requirement already satisfied: category_encoders in /Users/dongwoo/opt/anaconda3/lib/python3.9/site-packages (2.4.0)\n",
      "Requirement already satisfied: pandas>=0.21.1 in /Users/dongwoo/opt/anaconda3/lib/python3.9/site-packages (from category_encoders) (1.3.4)\n",
      "Requirement already satisfied: numpy>=1.14.0 in /Users/dongwoo/opt/anaconda3/lib/python3.9/site-packages (from category_encoders) (1.20.3)\n",
      "Requirement already satisfied: scikit-learn>=0.20.0 in /Users/dongwoo/opt/anaconda3/lib/python3.9/site-packages (from category_encoders) (0.24.2)\n",
      "Requirement already satisfied: statsmodels>=0.9.0 in /Users/dongwoo/opt/anaconda3/lib/python3.9/site-packages (from category_encoders) (0.12.2)\n",
      "Requirement already satisfied: patsy>=0.5.1 in /Users/dongwoo/opt/anaconda3/lib/python3.9/site-packages (from category_encoders) (0.5.2)\n",
      "Requirement already satisfied: scipy>=1.0.0 in /Users/dongwoo/opt/anaconda3/lib/python3.9/site-packages (from category_encoders) (1.7.1)\n",
      "Requirement already satisfied: python-dateutil>=2.7.3 in /Users/dongwoo/opt/anaconda3/lib/python3.9/site-packages (from pandas>=0.21.1->category_encoders) (2.8.1)\n",
      "Requirement already satisfied: pytz>=2017.3 in /Users/dongwoo/opt/anaconda3/lib/python3.9/site-packages (from pandas>=0.21.1->category_encoders) (2021.3)\n",
      "Requirement already satisfied: six in /Users/dongwoo/opt/anaconda3/lib/python3.9/site-packages (from patsy>=0.5.1->category_encoders) (1.15.0)\n",
      "Requirement already satisfied: threadpoolctl>=2.0.0 in /Users/dongwoo/opt/anaconda3/lib/python3.9/site-packages (from scikit-learn>=0.20.0->category_encoders) (2.2.0)\n",
      "Requirement already satisfied: joblib>=0.11 in /Users/dongwoo/opt/anaconda3/lib/python3.9/site-packages (from scikit-learn>=0.20.0->category_encoders) (1.1.0)\n"
     ]
    }
   ],
   "source": [
    "!pip install --upgrade category_encoders"
   ]
  },
  {
   "cell_type": "code",
   "execution_count": 20,
   "id": "2d70ea72",
   "metadata": {},
   "outputs": [
    {
     "name": "stdout",
     "output_type": "stream",
     "text": [
      "Requirement already satisfied: xgboost in /Users/dongwoo/opt/anaconda3/lib/python3.9/site-packages (1.5.2)\n",
      "Requirement already satisfied: scipy in /Users/dongwoo/opt/anaconda3/lib/python3.9/site-packages (from xgboost) (1.7.1)\n",
      "Requirement already satisfied: numpy in /Users/dongwoo/opt/anaconda3/lib/python3.9/site-packages (from xgboost) (1.20.3)\n"
     ]
    }
   ],
   "source": [
    "!pip install --upgrade xgboost"
   ]
  },
  {
   "cell_type": "code",
   "execution_count": 6,
   "id": "664a71a0",
   "metadata": {},
   "outputs": [],
   "source": [
    "# 파이프라인 #\n",
    "from sklearn.pipeline import make_pipeline, Pipeline\n",
    "\n",
    "# 인코더 #\n",
    "from category_encoders import OneHotEncoder\n",
    "from sklearn.impute import SimpleImputer\n",
    "from sklearn.preprocessing import MinMaxScaler\n",
    "\n",
    "# 모델링 #\n",
    "from sklearn.linear_model import LogisticRegressionCV\n",
    "from sklearn.tree import DecisionTreeClassifier\n",
    "from sklearn.ensemble import RandomForestClassifier\n",
    "from xgboost import XGBClassifier\n",
    "\n",
    "# 평가 #\n",
    "from sklearn.metrics import classification_report, plot_confusion_matrix"
   ]
  },
  {
   "cell_type": "markdown",
   "id": "47006e7b",
   "metadata": {},
   "source": [
    "### make pipeline\n",
    "- `str` 데이터 자료형으로 이루어진 컬럼을 0과 1로 바꾸는 **OneHotEncoder(원핫 인코더)**를 사용함.\n",
    "- 이후 훈련 데이터셋은 `fit_transform`을 진행함.\n",
    "- 검증, 시험 데이터셋은 `transform`을 진행함.\n"
   ]
  },
  {
   "cell_type": "code",
   "execution_count": 7,
   "id": "067912c6",
   "metadata": {},
   "outputs": [],
   "source": [
    "pipe = make_pipeline(\n",
    "    OneHotEncoder(cols=['preferred_foot','body_type','work_rate_Attaking','work_rate_defensive'], use_cat_names=True),\n",
    "    # SimpleImputer(missing_values=np.nan, strategy='mean'),\n",
    "    MinMaxScaler()\n",
    ")\n",
    "\n",
    "X_train_transform = pipe.fit_transform(X_train)\n",
    "X_val_transform = pipe.transform(X_val)\n",
    "X_test_transform = pipe.transform(X_test)"
   ]
  },
  {
   "cell_type": "markdown",
   "id": "de349f83",
   "metadata": {},
   "source": [
    "### LogisticRegression (로지스틱 회귀)"
   ]
  },
  {
   "cell_type": "code",
   "execution_count": 8,
   "id": "c48a2eab",
   "metadata": {},
   "outputs": [],
   "source": [
    "clf = LogisticRegressionCV(max_iter=100)\n",
    "clf = clf.fit(X_train_transform, y_train)\n",
    "y_pred = clf.predict(X_val_transform)"
   ]
  },
  {
   "cell_type": "code",
   "execution_count": 9,
   "id": "e5aff0e7",
   "metadata": {},
   "outputs": [
    {
     "name": "stdout",
     "output_type": "stream",
     "text": [
      "              precision    recall  f1-score   support\n",
      "\n",
      "      Attack       0.87      0.78      0.82       684\n",
      "     Defence       0.94      0.94      0.94      1160\n",
      "  Goalkeeper       1.00      1.00      1.00       391\n",
      "      Middle       0.84      0.89      0.86      1317\n",
      "\n",
      "    accuracy                           0.89      3552\n",
      "   macro avg       0.91      0.90      0.91      3552\n",
      "weighted avg       0.90      0.89      0.89      3552\n",
      "\n"
     ]
    }
   ],
   "source": [
    "print(classification_report(y_val, y_pred))"
   ]
  },
  {
   "cell_type": "code",
   "execution_count": 10,
   "id": "fe595212",
   "metadata": {},
   "outputs": [
    {
     "data": {
      "image/png": "[encoded data removed]",
      "text/plain": [
       "<Figure size 432x288 with 2 Axes>"
      ]
     },
     "metadata": {
      "needs_background": "light"
     },
     "output_type": "display_data"
    }
   ],
   "source": [
    "label = ['Attack', 'Defence', 'GoalKeeper', 'Middle']\n",
    "plot = plot_confusion_matrix(clf, \n",
    "                              X_val_transform, y_val,\n",
    "                              display_labels = label,\n",
    "                              cmap = 'Blues',\n",
    "                              normalize='true')\n",
    "plt.title('Logistic Regression(Position)', fontsize=15);"
   ]
  },
  {
   "cell_type": "markdown",
   "id": "2111e923",
   "metadata": {},
   "source": [
    "### Decision Tree (결정트리)"
   ]
  },
  {
   "cell_type": "code",
   "execution_count": 48,
   "id": "fb2fd3ef",
   "metadata": {},
   "outputs": [
    {
     "name": "stdout",
     "output_type": "stream",
     "text": [
      "              precision    recall  f1-score   support\n",
      "\n",
      "      Attack       0.74      0.73      0.74       690\n",
      "     Defence       0.87      0.87      0.87      1153\n",
      "  Goalkeeper       1.00      1.00      1.00       394\n",
      "      Middle       0.75      0.76      0.75      1315\n",
      "\n",
      "    accuracy                           0.81      3552\n",
      "   macro avg       0.84      0.84      0.84      3552\n",
      "weighted avg       0.81      0.81      0.81      3552\n",
      "\n"
     ]
    }
   ],
   "source": [
    "clf = DecisionTreeClassifier()\n",
    "clf.fit(X_train_transform, y_train)\n",
    "y_pred = clf.predict(X_val_transform)\n",
    "print(classification_report(y_val, y_pred))"
   ]
  },
  {
   "cell_type": "code",
   "execution_count": 49,
   "id": "7669e428",
   "metadata": {},
   "outputs": [
    {
     "data": {
      "image/png": "[encoded data removed]",
      "text/plain": [
       "<Figure size 432x288 with 2 Axes>"
      ]
     },
     "metadata": {
      "needs_background": "light"
     },
     "output_type": "display_data"
    }
   ],
   "source": [
    "label = ['Attack', 'Defence', 'GoalKeeper', 'Middle']\n",
    "plot = plot_confusion_matrix(clf, \n",
    "                              X_val_transform, y_val,\n",
    "                              display_labels = label,\n",
    "                              cmap = 'Blues',\n",
    "                              normalize='true')\n",
    "plt.title('Decision Tree(Position)', fontsize=15);"
   ]
  },
  {
   "cell_type": "markdown",
   "id": "c8473627",
   "metadata": {},
   "source": [
    "### RandomForest (랜덤 포레스트)"
   ]
  },
  {
   "cell_type": "code",
   "execution_count": 50,
   "id": "68d1a192",
   "metadata": {},
   "outputs": [
    {
     "name": "stdout",
     "output_type": "stream",
     "text": [
      "              precision    recall  f1-score   support\n",
      "\n",
      "      Attack       0.85      0.81      0.83       690\n",
      "     Defence       0.92      0.93      0.93      1153\n",
      "  Goalkeeper       1.00      1.00      1.00       394\n",
      "      Middle       0.85      0.86      0.85      1315\n",
      "\n",
      "    accuracy                           0.89      3552\n",
      "   macro avg       0.91      0.90      0.90      3552\n",
      "weighted avg       0.89      0.89      0.89      3552\n",
      "\n"
     ]
    }
   ],
   "source": [
    "clf = RandomForestClassifier()\n",
    "clf.fit(X_train_transform, y_train)\n",
    "y_pred = clf.predict(X_val_transform)\n",
    "print(classification_report(y_val, y_pred))"
   ]
  },
  {
   "cell_type": "code",
   "execution_count": 51,
   "id": "116a05de",
   "metadata": {},
   "outputs": [
    {
     "data": {
      "image/png": "[encoded data removed]",
      "text/plain": [
       "<Figure size 432x288 with 2 Axes>"
      ]
     },
     "metadata": {
      "needs_background": "light"
     },
     "output_type": "display_data"
    }
   ],
   "source": [
    "label = ['Attack', 'Defence', 'GoalKeeper', 'Middle']\n",
    "plot = plot_confusion_matrix(clf, \n",
    "                              X_val_transform, y_val,\n",
    "                              display_labels = label,\n",
    "                              cmap = 'Blues',\n",
    "                              normalize='true')\n",
    "plt.title('RandomForest(Position)', fontsize=15);"
   ]
  },
  {
   "cell_type": "markdown",
   "id": "6070244d",
   "metadata": {},
   "source": [
    "### XGBoost"
   ]
  },
  {
   "cell_type": "code",
   "execution_count": null,
   "id": "bfdcb495",
   "metadata": {},
   "outputs": [],
   "source": [
    "clf = XGBClassifier()\n",
    "clf.fit(X_train_transform, y_train)\n",
    "y_pred = clf.predict(X_val_transform)\n",
    "print(classification_report(y_val, y_pred))"
   ]
  },
  {
   "cell_type": "code",
   "execution_count": null,
   "id": "de46eff1",
   "metadata": {},
   "outputs": [],
   "source": [
    "label = ['Attack', 'Defence', 'GoalKeeper', 'Middle']\n",
    "plot = plot_confusion_matrix(clf, \n",
    "                              X_val_transform, y_val,\n",
    "                              display_labels = label,\n",
    "                              cmap = 'Blues',\n",
    "                              normalize='true')\n",
    "plt.title('XGBoost(Position)', fontsize=15);"
   ]
  },
  {
   "cell_type": "markdown",
   "id": "d544847e",
   "metadata": {},
   "source": [
    "## 결론적으로\n",
    "가장 정확도가 높았던 모델은 LogisticRegression이지만 그외로도 XGBoost나 랜덤포레스트도 미세한차이라 비슷한 정확도를 나타내고 있습니다."
   ]
  }
 ],
 "metadata": {
  "kernelspec": {
   "display_name": "Python 3 (ipykernel)",
   "language": "python",
   "name": "python3"
  },
  "language_info": {
   "codemirror_mode": {
    "name": "ipython",
    "version": 3
   },
   "file_extension": ".py",
   "mimetype": "text/x-python",
   "name": "python",
   "nbconvert_exporter": "python",
   "pygments_lexer": "ipython3",
   "version": "3.9.7"
  },
  "toc": {
   "base_numbering": 1,
   "nav_menu": {},
   "number_sections": true,
   "sideBar": true,
   "skip_h1_title": false,
   "title_cell": "Table of Contents",
   "title_sidebar": "Contents",
   "toc_cell": false,
   "toc_position": {},
   "toc_section_display": true,
   "toc_window_display": false
  },
  "varInspector": {
   "cols": {
    "lenName": 16,
    "lenType": 16,
    "lenVar": 40
   },
   "kernels_config": {
    "python": {
     "delete_cmd_postfix": "",
     "delete_cmd_prefix": "del ",
     "library": "var_list.py",
     "varRefreshCmd": "print(var_dic_list())"
    },
    "r": {
     "delete_cmd_postfix": ") ",
     "delete_cmd_prefix": "rm(",
     "library": "var_list.r",
     "varRefreshCmd": "cat(var_dic_list()) "
    }
   },
   "types_to_exclude": [
    "module",
    "function",
    "builtin_function_or_method",
    "instance",
    "_Feature"
   ],
   "window_display": false
  }
 },
 "nbformat": 4,
 "nbformat_minor": 5
}
