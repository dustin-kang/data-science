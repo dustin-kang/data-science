{
 "cells": [
  {
   "cell_type": "markdown",
   "id": "78aff7d2",
   "metadata": {},
   "source": [
    "### Spark 객체 생성"
   ]
  },
  {
   "cell_type": "code",
   "execution_count": 30,
   "id": "eb0ab3fe",
   "metadata": {},
   "outputs": [],
   "source": [
    "from pyspark.sql import SparkSession"
   ]
  },
  {
   "cell_type": "code",
   "execution_count": 31,
   "id": "bea9b323",
   "metadata": {},
   "outputs": [],
   "source": [
    "MAX_MEMORY= \"5g\" # `OutofMemeory` 문제를 방지하기 위함.\n",
    "spark = SparkSession.builder.appName(\"soccer_price_prediction\")\\\n",
    "        .config(\"spark.executor.memory\", MAX_MEMORY)\\\n",
    "        .config(\"spark.driver.memory\", MAX_MEMORY)\\\n",
    "        .getOrCreate()"
   ]
  },
  {
   "cell_type": "markdown",
   "id": "4ea33f54",
   "metadata": {},
   "source": [
    "### 데이터 파싱"
   ]
  },
  {
   "cell_type": "code",
   "execution_count": 32,
   "id": "8baeb2cf",
   "metadata": {},
   "outputs": [
    {
     "name": "stdout",
     "output_type": "stream",
     "text": [
      "root\n",
      " |-- preferred_foot: string (nullable = true)\n",
      " |-- work_rate_Attaking: integer (nullable = true)\n",
      " |-- work_rate_defensive: integer (nullable = true)\n",
      " |-- body_type: string (nullable = true)\n",
      " |-- international_reputation: integer (nullable = true)\n",
      " |-- position: string (nullable = true)\n",
      " |-- pace: double (nullable = true)\n",
      " |-- shooting: double (nullable = true)\n",
      " |-- passing: double (nullable = true)\n",
      " |-- dribbling: double (nullable = true)\n",
      " |-- defending: double (nullable = true)\n",
      " |-- physic: double (nullable = true)\n",
      " |-- attacking_crossing: integer (nullable = true)\n",
      " |-- attacking_finishing: integer (nullable = true)\n",
      " |-- attacking_heading_accuracy: integer (nullable = true)\n",
      " |-- attacking_short_passing: integer (nullable = true)\n",
      " |-- attacking_volleys: integer (nullable = true)\n",
      " |-- skill_dribbling: integer (nullable = true)\n",
      " |-- skill_curve: integer (nullable = true)\n",
      " |-- skill_fk_accuracy: integer (nullable = true)\n",
      " |-- skill_long_passing: integer (nullable = true)\n",
      " |-- skill_ball_control: integer (nullable = true)\n",
      " |-- movement_acceleration: integer (nullable = true)\n",
      " |-- movement_sprint_speed: integer (nullable = true)\n",
      " |-- movement_agility: integer (nullable = true)\n",
      " |-- movement_reactions: integer (nullable = true)\n",
      " |-- movement_balance: integer (nullable = true)\n",
      " |-- power_shot_power: integer (nullable = true)\n",
      " |-- power_jumping: integer (nullable = true)\n",
      " |-- power_stamina: integer (nullable = true)\n",
      " |-- power_strength: integer (nullable = true)\n",
      " |-- power_long_shots: integer (nullable = true)\n",
      " |-- mentality_aggression: integer (nullable = true)\n",
      " |-- mentality_interceptions: integer (nullable = true)\n",
      " |-- mentality_positioning: integer (nullable = true)\n",
      " |-- mentality_vision: integer (nullable = true)\n",
      " |-- mentality_penalties: integer (nullable = true)\n",
      " |-- mentality_composure: integer (nullable = true)\n",
      " |-- defending_standing_tackle: integer (nullable = true)\n",
      " |-- defending_sliding_tackle: integer (nullable = true)\n",
      " |-- goalkeeping_diving: integer (nullable = true)\n",
      " |-- goalkeeping_handling: integer (nullable = true)\n",
      " |-- goalkeeping_kicking: integer (nullable = true)\n",
      " |-- goalkeeping_positioning: integer (nullable = true)\n",
      " |-- goalkeeping_reflexes: integer (nullable = true)\n",
      " |-- LS_value: integer (nullable = true)\n",
      " |-- LS_grow: integer (nullable = true)\n",
      " |-- ST_value: integer (nullable = true)\n",
      " |-- ST_grow: integer (nullable = true)\n",
      " |-- RS_value: integer (nullable = true)\n",
      " |-- RS_grow: integer (nullable = true)\n",
      " |-- LW_value: integer (nullable = true)\n",
      " |-- LW_grow: integer (nullable = true)\n",
      " |-- LF_value: integer (nullable = true)\n",
      " |-- LF_grow: integer (nullable = true)\n",
      " |-- CF_value: integer (nullable = true)\n",
      " |-- CF_grow: integer (nullable = true)\n",
      " |-- RF_value: integer (nullable = true)\n",
      " |-- RF_grow: integer (nullable = true)\n",
      " |-- RW_value: integer (nullable = true)\n",
      " |-- RW_grow: integer (nullable = true)\n",
      " |-- LAM_value: integer (nullable = true)\n",
      " |-- LAM_grow: integer (nullable = true)\n",
      " |-- CAM_value: integer (nullable = true)\n",
      " |-- CAM_grow: integer (nullable = true)\n",
      " |-- RAM_value: integer (nullable = true)\n",
      " |-- RAM_grow: integer (nullable = true)\n",
      " |-- LM_value: integer (nullable = true)\n",
      " |-- LM_grow: integer (nullable = true)\n",
      " |-- LCM_value: integer (nullable = true)\n",
      " |-- LCM_grow: integer (nullable = true)\n",
      " |-- CM_value: integer (nullable = true)\n",
      " |-- CM_grow: integer (nullable = true)\n",
      " |-- RCM_value: integer (nullable = true)\n",
      " |-- RCM_grow: integer (nullable = true)\n",
      " |-- RM_value: integer (nullable = true)\n",
      " |-- RM_grow: integer (nullable = true)\n",
      " |-- LWB_value: integer (nullable = true)\n",
      " |-- LWB_grow: integer (nullable = true)\n",
      " |-- LDM_value: integer (nullable = true)\n",
      " |-- LDM_grow: integer (nullable = true)\n",
      " |-- CDM_value: integer (nullable = true)\n",
      " |-- CDM_grow: integer (nullable = true)\n",
      " |-- RDM_value: integer (nullable = true)\n",
      " |-- RDM_grow: integer (nullable = true)\n",
      " |-- RWB_value: integer (nullable = true)\n",
      " |-- RWB_grow: integer (nullable = true)\n",
      " |-- LB_value: integer (nullable = true)\n",
      " |-- LB_grow: integer (nullable = true)\n",
      " |-- LCB_value: integer (nullable = true)\n",
      " |-- LCB_grow: integer (nullable = true)\n",
      " |-- CB_value: integer (nullable = true)\n",
      " |-- CB_grow: integer (nullable = true)\n",
      " |-- RCB_value: integer (nullable = true)\n",
      " |-- RCB_grow: integer (nullable = true)\n",
      " |-- RB_value: integer (nullable = true)\n",
      " |-- RB_grow: integer (nullable = true)\n",
      " |-- age: integer (nullable = true)\n",
      " |-- height_cm: integer (nullable = true)\n",
      " |-- weight_kg: integer (nullable = true)\n",
      " |-- overall: integer (nullable = true)\n",
      " |-- potential: integer (nullable = true)\n",
      " |-- weak_foot: integer (nullable = true)\n",
      " |-- skill_moves: integer (nullable = true)\n",
      " |-- value_eur: integer (nullable = true)\n",
      " |-- wage_eur: integer (nullable = true)\n",
      "\n"
     ]
    }
   ],
   "source": [
    "TRIP_FILES = \"/Users/dongwoo/ml-soccer-player-prediction/data/reg_data.csv\"\n",
    "player_df = spark.read.csv(f\"file:///{TRIP_FILES}\", inferSchema=True, header=True)\n",
    "player_df.printSchema()"
   ]
  },
  {
   "cell_type": "code",
   "execution_count": 33,
   "id": "4fb63eaf",
   "metadata": {},
   "outputs": [],
   "source": [
    "player_df.createOrReplaceTempView(\"players\")"
   ]
  },
  {
   "cell_type": "code",
   "execution_count": 39,
   "id": "98c30eb8",
   "metadata": {},
   "outputs": [],
   "source": [
    "query = \"\"\"\n",
    "SELECT \n",
    "    *\n",
    "FROM\n",
    "    players\n",
    "\"\"\""
   ]
  },
  {
   "cell_type": "code",
   "execution_count": 40,
   "id": "931623b5",
   "metadata": {},
   "outputs": [],
   "source": [
    "data_df = spark.sql(query)"
   ]
  },
  {
   "cell_type": "code",
   "execution_count": 41,
   "id": "bd153048",
   "metadata": {},
   "outputs": [
    {
     "data": {
      "text/plain": [
       "DataFrame[preferred_foot: string, work_rate_Attaking: int, work_rate_defensive: int, body_type: string, international_reputation: int, position: string, pace: double, shooting: double, passing: double, dribbling: double, defending: double, physic: double, attacking_crossing: int, attacking_finishing: int, attacking_heading_accuracy: int, attacking_short_passing: int, attacking_volleys: int, skill_dribbling: int, skill_curve: int, skill_fk_accuracy: int, skill_long_passing: int, skill_ball_control: int, movement_acceleration: int, movement_sprint_speed: int, movement_agility: int, movement_reactions: int, movement_balance: int, power_shot_power: int, power_jumping: int, power_stamina: int, power_strength: int, power_long_shots: int, mentality_aggression: int, mentality_interceptions: int, mentality_positioning: int, mentality_vision: int, mentality_penalties: int, mentality_composure: int, defending_standing_tackle: int, defending_sliding_tackle: int, goalkeeping_diving: int, goalkeeping_handling: int, goalkeeping_kicking: int, goalkeeping_positioning: int, goalkeeping_reflexes: int, LS_value: int, LS_grow: int, ST_value: int, ST_grow: int, RS_value: int, RS_grow: int, LW_value: int, LW_grow: int, LF_value: int, LF_grow: int, CF_value: int, CF_grow: int, RF_value: int, RF_grow: int, RW_value: int, RW_grow: int, LAM_value: int, LAM_grow: int, CAM_value: int, CAM_grow: int, RAM_value: int, RAM_grow: int, LM_value: int, LM_grow: int, LCM_value: int, LCM_grow: int, CM_value: int, CM_grow: int, RCM_value: int, RCM_grow: int, RM_value: int, RM_grow: int, LWB_value: int, LWB_grow: int, LDM_value: int, LDM_grow: int, CDM_value: int, CDM_grow: int, RDM_value: int, RDM_grow: int, RWB_value: int, RWB_grow: int, LB_value: int, LB_grow: int, LCB_value: int, LCB_grow: int, CB_value: int, CB_grow: int, RCB_value: int, RCB_grow: int, RB_value: int, RB_grow: int, age: int, height_cm: int, weight_kg: int, overall: int, potential: int, weak_foot: int, skill_moves: int, value_eur: int, wage_eur: int]"
      ]
     },
     "execution_count": 41,
     "metadata": {},
     "output_type": "execute_result"
    }
   ],
   "source": [
    "data_df"
   ]
  },
  {
   "cell_type": "markdown",
   "id": "e51f37ec",
   "metadata": {},
   "source": [
    "### 데이터 분리"
   ]
  },
  {
   "cell_type": "code",
   "execution_count": 42,
   "id": "843f65e4",
   "metadata": {},
   "outputs": [],
   "source": [
    "train_df, test_df = data_df.randomSplit([0.8, 0.2], seed=1)"
   ]
  },
  {
   "cell_type": "code",
   "execution_count": 43,
   "id": "7f6b7695",
   "metadata": {},
   "outputs": [],
   "source": [
    "DATA_DIR = \"/Users/dongwoo/ml-soccer-player-prediction/data/\""
   ]
  },
  {
   "cell_type": "code",
   "execution_count": 44,
   "id": "226df6c2",
   "metadata": {},
   "outputs": [
    {
     "name": "stderr",
     "output_type": "stream",
     "text": [
      "                                                                                \r"
     ]
    }
   ],
   "source": [
    "train_df.write.format(\"parquet\").mode('overwrite').save(f\"{DATA_DIR}/train/\")\n",
    "test_df.write.format(\"parquet\").mode('overwrite').save(f\"{DATA_DIR}/test/\")"
   ]
  },
  {
   "cell_type": "code",
   "execution_count": null,
   "id": "00acd176",
   "metadata": {},
   "outputs": [],
   "source": []
  }
 ],
 "metadata": {
  "kernelspec": {
   "display_name": "Python 3 (ipykernel)",
   "language": "python",
   "name": "python3"
  },
  "language_info": {
   "codemirror_mode": {
    "name": "ipython",
    "version": 3
   },
   "file_extension": ".py",
   "mimetype": "text/x-python",
   "name": "python",
   "nbconvert_exporter": "python",
   "pygments_lexer": "ipython3",
   "version": "3.9.7"
  }
 },
 "nbformat": 4,
 "nbformat_minor": 5
}
